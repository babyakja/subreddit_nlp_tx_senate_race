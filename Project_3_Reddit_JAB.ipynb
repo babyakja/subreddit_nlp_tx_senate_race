{
 "cells": [
  {
   "cell_type": "markdown",
   "metadata": {
    "focus": false,
    "id": "69b9a648-bcc7-490d-9f9b-ea244d156bd6"
   },
   "source": [
    "# Using Reddit's API for Predicting Comments"
   ]
  },
  {
   "cell_type": "markdown",
   "metadata": {
    "ExecuteTime": {
     "end_time": "2017-10-23T19:28:02.619411Z",
     "start_time": "2017-10-23T19:28:02.600856Z"
    }
   },
   "source": [
    "In this project, we will practice two major skills. Collecting data via an API request and then building a binary predictor.\n",
    "\n",
    "As we discussed in week 2, and earlier today, there are two components to starting a data science problem: the problem statement, and acquiring the data.\n",
    "\n",
    "For this article, your problem statement will be: _What characteristics of a post on Reddit contribute most to what subreddit it belongs to?_\n",
    "\n",
    "Your method for acquiring the data will be scraping threads from at least two subreddits. \n",
    "\n",
    "Once you've got the data, you will build a classification model that, using Natural Language Processing and any other relevant features, predicts which subreddit a given post belongs to."
   ]
  },
  {
   "cell_type": "markdown",
   "metadata": {
    "focus": false,
    "id": "a948d79c-5527-4c0d-ab23-f5d43ce72056"
   },
   "source": [
    "### Scraping Thread Info from Reddit.com"
   ]
  },
  {
   "cell_type": "markdown",
   "metadata": {},
   "source": [
    "#### Set up a request (using requests) to the URL below. \n",
    "\n",
    "*NOTE*: Reddit will throw a [429 error](https://httpstatuses.com/429) when using the following code:\n",
    "```python\n",
    "res = requests.get(URL)\n",
    "```\n",
    "\n",
    "This is because Reddit has throttled python's default user agent. You'll need to set a custom `User-agent` to get your request to work.\n",
    "```python\n",
    "res = requests.get(URL, headers={'User-agent': 'YOUR NAME Bot 0.1'})\n",
    "```"
   ]
  },
  {
   "cell_type": "code",
   "execution_count": 668,
   "metadata": {},
   "outputs": [],
   "source": [
    "import requests\n",
    "import pandas as pd\n",
    "import numpy as np\n",
    "import json\n",
    "import time\n",
    "\n",
    "from sklearn.model_selection import train_test_split, cross_val_score, GridSearchCV\n",
    "from sklearn.feature_extraction.text import TfidfVectorizer, CountVectorizer, TfidfTransformer\n",
    "from sklearn.linear_model import LogisticRegression\n",
    "from sklearn.naive_bayes import MultinomialNB\n",
    "from sklearn.metrics import confusion_matrix, classification_report, accuracy_score\n",
    "from sklearn.feature_extraction import stop_words\n",
    "from sklearn.ensemble import RandomForestClassifier, ExtraTreesClassifier, GradientBoostingClassifier\n",
    "from sklearn.neighbors import KNeighborsClassifier\n",
    "from sklearn.pipeline import Pipeline\n",
    "\n",
    "import matplotlib.pyplot as plt \n",
    "\n",
    "%matplotlib inline"
   ]
  },
  {
   "cell_type": "code",
   "execution_count": 4,
   "metadata": {},
   "outputs": [],
   "source": [
    "url = \"http://www.reddit.com/r/boardgames.json\""
   ]
  },
  {
   "cell_type": "code",
   "execution_count": 5,
   "metadata": {},
   "outputs": [
    {
     "data": {
      "text/plain": [
       "200"
      ]
     },
     "execution_count": 5,
     "metadata": {},
     "output_type": "execute_result"
    }
   ],
   "source": [
    "## \n",
    "res = requests.get(url, headers={'User-agent': 'GitUpstreamMaster'})\n",
    "res.status_code"
   ]
  },
  {
   "cell_type": "code",
   "execution_count": null,
   "metadata": {},
   "outputs": [],
   "source": [
    "\n"
   ]
  },
  {
   "cell_type": "markdown",
   "metadata": {},
   "source": [
    "#### Use `res.json()` to convert the response into a dictionary format and set this to a variable. \n",
    "\n",
    "```python\n",
    "data = res.json()\n",
    "```"
   ]
  },
  {
   "cell_type": "code",
   "execution_count": 6,
   "metadata": {},
   "outputs": [],
   "source": [
    "data= res.json()"
   ]
  },
  {
   "cell_type": "code",
   "execution_count": 7,
   "metadata": {},
   "outputs": [
    {
     "data": {
      "text/plain": [
       "dict_keys(['kind', 'data'])"
      ]
     },
     "execution_count": 7,
     "metadata": {},
     "output_type": "execute_result"
    }
   ],
   "source": [
    "data.keys()"
   ]
  },
  {
   "cell_type": "code",
   "execution_count": 8,
   "metadata": {},
   "outputs": [
    {
     "data": {
      "text/plain": [
       "dict_keys(['modhash', 'dist', 'children', 'after', 'before'])"
      ]
     },
     "execution_count": 8,
     "metadata": {},
     "output_type": "execute_result"
    }
   ],
   "source": [
    "data['data'].keys()"
   ]
  },
  {
   "cell_type": "code",
   "execution_count": 9,
   "metadata": {},
   "outputs": [
    {
     "data": {
      "text/plain": [
       "27"
      ]
     },
     "execution_count": 9,
     "metadata": {},
     "output_type": "execute_result"
    }
   ],
   "source": [
    "len(data['data']['children'])"
   ]
  },
  {
   "cell_type": "code",
   "execution_count": 10,
   "metadata": {},
   "outputs": [
    {
     "data": {
      "text/plain": [
       "{'kind': 't3',\n",
       " 'data': {'approved_at_utc': None,\n",
       "  'subreddit': 'boardgames',\n",
       "  'selftext': 'Welcome to the monthly [/r/boardgames](https://www.reddit.com/r/boardgames) town hall. This is an opportunity to discuss the subreddit, make suggestions and observations, or ask questions. No topic is off-topic, the mods will be popping in and out, and we’re happy to engage in any and all discussion. The only thing we ask in return is a little  politeness and respect up front. Remember, we’re volunteers.\\n\\nThis month we\\'ve got a handful of announcements to run through:\\n\\n# Rule Changes: Intellectual Property\\n\\nAfter discussing some challenging rulings lately, we\\'ve decided to clarify our stance on intellectual property and reproducibility:\\n\\n&gt;*Out of respect for designers and publishers in our hobby,* we do not allow any posts that enable a full or significant reproduction/recreation of any game\\n\\n* Effectively you can share pics of your retheme in play, but not any of the raw images or files you used to make it\\n* This is not a legality judgment, and will stand even if the images are  public domain or \"fair use\". Legal protections for game concepts and mechanisms are actually notoriously weak or nonexistent, hence one of the reasons the community tries to be self-policing about copying ideas without permission.\\n* Offering or suggesting to provide files via PM or commenting on such posts asking for files is also clearly not in the spirit of the rule.\\n* We *may* allow reproducible materials when there\\'s clear approval from the designer/publisher. *However* verifying this approval can be a tedious task for us, so ask first and assume that we\\'re not going to allow it.\\n\\n&gt;Issues with copyright and other intellectual property violations should be handled through Reddit\\'s [official channels](https://www.redditinc.com/policies/user-agreement#text-content8).\\n\\n* Assuming the post follows the reproducibility rule, we\\'re not going to try to determine if there are any other IP infringements, i.e. in the case of a retheme using characters or content from a book, movie, TV show, or video game. The mod team is simply unequipped to evaluate legitimacy and reddit already has full procedures and mechanisms for handling such problems.\\n   * Of couse we still reserve the right to intervene if something seems \"obviously\" wrong or objectively bad for the sub, though these scenarios are likely to trip other rules.\\n\\n# Rule Changes: Promotional Posts\\n\\nContinuing from the discussion in our [last town hall](https://www.reddit.com/r/boardgames/comments/95wznh/rboardgames_town_hall_august_2018/), we will be implementing our revisions to promo rules as follows:\\n\\n&gt;r/boardgames is a community, not an audience. Our rules are designed to promote community engagement, rather than being purely a conduit to promote a blog, podcast, Kickstarter, YouTube channel, or similar. In order to ensure this is maintained, /r/boardgames limits promotional posts or activities for which one could receive a financial benefit to these guidelines:  \\n&gt;  \\n&gt;**No more than one post per-user, per-week (7 days) from a single source.**  \\n&gt;  \\n&gt;**Multiple posts linking the same source require a 10:1 ratio (or greater) of comments between posts.**  \\n&gt;  \\n&gt;**Sitewide Reddit karma must be above 100 to share links.**  \\n&gt;  \\n&gt;However, sharing content should hopefully not be your primary interaction with /r/boardgames, just as dominating a conversation would not be acceptable in other social engagements. Reddit sitewide guidelines suggest only 10 percent of all your activity should be about your own products. We support similar expectations. r/boardgames is a community, an opportunity for conversation with others who share a similar passion, not an audience.\\n\\nThis is the same basic idea we presented then—to loosen the restrictions on users who are posting from a variety of sources, while compensating with a small karma barrier to limit spam—but slightly revised to handle a few perceived weaknesses. Note that, aside from sub-100-karma accounts, all posts complying with the old rules would still be valid under the new ones.\\n\\nIt may take a little bit for us to get all of our ducks in a row, but we\\'re going to start transitioning to using this guideline immediately.\\n\\n# Upcoming User Flair Changes and Voting\\n\\nFirst of all, **we\\'ll be holding a flair suggestion + voting thread next week,** so get your ideas churning. However things will be a little different this time around:\\n\\n* **Switching to \"redesign-style\" flairs:** Old reddit implements flair icons with CSS hacks, new reddit supports them as *emoji.* With this flair update we\\'ll be transitioning some-to-most flairs to the new system. This **isn\\'t** a statement that we\\'re throwing our weight behind the redesign in general. The emoji are backwards-compatible, whereas the CSS *isn\\'t* forwards-compatible, so using redesign for this gives us the best overall support. The new system also gives us built-in controls (instead of a 3rd-party script a select few can run) and higher-quality images.\\n* **Flair count limits:** Our tool previously limited us to 350 flair slots, while new reddit is limited to 300 emojis. However, based on what reddit devs have said publicly, we do expect the limit to be relaxed in the near future. For now, I\\'m going to cap us at 280 game flairs so that we have a few slots for generic icons and experimentation. For now we\\'ll still use the 350 limit as the threshold for \"bumping off\" old flairs. At the time of the vote thread, I\\'ll post a table of all the least-used flairs that are on or near the chopping block. Note that in the past, we\\'ve had vehement fans of low-usage flairs successfully rally and save them from the purge.\\n* **Resolution upgrade:** Emoji can be uploaded at resolutions up to 128x128px. Even though our flair displays at 16x16 in *CSS pixels*, on many devices with higher *pixel density* you will see a higher-resolution image. For example, my computer sees the revised and old Agricola flairs as below.\\n   * We do have permission from BGG admins (thanks BGG!) to continue to use their microbadges in our flair system. However their badges are limited to exactly 16x16, so if folks are interested in helping to upgrade, we\\'ll have to coordinate the creation of new images, as well as permission to use the corresponding source material. I\\'ll have more details on this later.\\n\\nWe also have some visual tweaks available on new reddit, like choosing the background color for default flairs (just this week they added a transparent option, too) or upping the flair size. I personally think having larger-than-text-size looks clunky, but on the other hand, it could enable us to use some images that were previously too small to be recognizable.\\n\\n# Subreddit History Mystery\\n\\n/r/boardgames **is coming up on its 10th anniversary in a little over a week!** In celebration, we\\'ve been exploring our archives and finding some interesting historical posts, #modsarenerds, but there\\'s one glaring omission in our discoveries: *who actually created the subreddit?* Nowadays reddit records the original creator of each sub, but this wasn\\'t true in 2008. Reddit duplicators and generic web history tools don\\'t reach back far enough and only reveal more mysteries. For example, the first post that didn\\'t later get deleted wasn\\'t submitted until 11 months in, but by then there was already a team of several mods?\\n\\nWe\\'re **not** looking for you to message users for us. We\\'ve already reached out to a number of folks, and we don\\'t want anyone swarmed with inquiries. It\\'s probably annoying enough when *one* internet stranger asks what you were doing a decade ago! We are looking for either: people who were around in the old days and have any clues or interesting details about the early sub, *or* suggestions of other techniques we can explore.\\n\\nThis isn\\'t high stakes, just looking for some fun trivia as we approach year 11 and several other milestones. *\\\\*cough\\\\** 1 million users *\\\\*cough\\\\** top 100 sub *\\\\*cough\\\\**\\n\\n&amp;#x200B;\\n\\n&amp;#x200B;\\n\\nWhew; that\\'s all I\\'ve got right now. Let us know your thoughts, and again, you\\'re welcome to discuss any topics here. Game on!',\n",
       "  'author_fullname': 't2_fgd6j',\n",
       "  'saved': False,\n",
       "  'mod_reason_title': None,\n",
       "  'gilded': 0,\n",
       "  'clicked': False,\n",
       "  'title': '/r/boardgames Town Hall - September 2018',\n",
       "  'link_flair_richtext': [{'e': 'text', 't': 'Town Hall'}],\n",
       "  'subreddit_name_prefixed': 'r/boardgames',\n",
       "  'hidden': False,\n",
       "  'pwls': 6,\n",
       "  'link_flair_css_class': 'ththu',\n",
       "  'downs': 0,\n",
       "  'thumbnail_height': None,\n",
       "  'parent_whitelist_status': 'all_ads',\n",
       "  'hide_score': False,\n",
       "  'name': 't3_9dnx0k',\n",
       "  'quarantine': False,\n",
       "  'link_flair_text_color': 'light',\n",
       "  'author_flair_background_color': '',\n",
       "  'subreddit_type': 'public',\n",
       "  'ups': 32,\n",
       "  'domain': 'self.boardgames',\n",
       "  'media_embed': {},\n",
       "  'thumbnail_width': None,\n",
       "  'author_flair_template_id': 'ef809fb6-18ab-11e7-9e69-0e5a4f06ecbe',\n",
       "  'is_original_content': False,\n",
       "  'user_reports': [],\n",
       "  'secure_media': None,\n",
       "  'is_reddit_media_domain': False,\n",
       "  'is_meta': False,\n",
       "  'category': None,\n",
       "  'secure_media_embed': {},\n",
       "  'link_flair_text': 'Town Hall',\n",
       "  'can_mod_post': False,\n",
       "  'score': 32,\n",
       "  'approved_by': None,\n",
       "  'thumbnail': 'self',\n",
       "  'edited': False,\n",
       "  'author_flair_css_class': 'custom',\n",
       "  'author_flair_richtext': [{'a': ':agricola:',\n",
       "    'e': 'emoji',\n",
       "    'u': 'https://emoji.redditmedia.com/lpd3v2qj42i11_t5_2qmjp/agricola'},\n",
       "   {'e': 'text', 't': \" I'd rather beg!\"}],\n",
       "  'content_categories': None,\n",
       "  'is_self': True,\n",
       "  'mod_note': None,\n",
       "  'created': 1536302010.0,\n",
       "  'link_flair_type': 'richtext',\n",
       "  'wls': 6,\n",
       "  'banned_by': None,\n",
       "  'author_flair_type': 'richtext',\n",
       "  'contest_mode': False,\n",
       "  'selftext_html': '&lt;!-- SC_OFF --&gt;&lt;div class=\"md\"&gt;&lt;p&gt;Welcome to the monthly &lt;a href=\"https://www.reddit.com/r/boardgames\"&gt;/r/boardgames&lt;/a&gt; town hall. This is an opportunity to discuss the subreddit, make suggestions and observations, or ask questions. No topic is off-topic, the mods will be popping in and out, and we’re happy to engage in any and all discussion. The only thing we ask in return is a little  politeness and respect up front. Remember, we’re volunteers.&lt;/p&gt;\\n\\n&lt;p&gt;This month we&amp;#39;ve got a handful of announcements to run through:&lt;/p&gt;\\n\\n&lt;h1&gt;Rule Changes: Intellectual Property&lt;/h1&gt;\\n\\n&lt;p&gt;After discussing some challenging rulings lately, we&amp;#39;ve decided to clarify our stance on intellectual property and reproducibility:&lt;/p&gt;\\n\\n&lt;blockquote&gt;\\n&lt;p&gt;&lt;em&gt;Out of respect for designers and publishers in our hobby,&lt;/em&gt; we do not allow any posts that enable a full or significant reproduction/recreation of any game&lt;/p&gt;\\n&lt;/blockquote&gt;\\n\\n&lt;ul&gt;\\n&lt;li&gt;Effectively you can share pics of your retheme in play, but not any of the raw images or files you used to make it&lt;/li&gt;\\n&lt;li&gt;This is not a legality judgment, and will stand even if the images are  public domain or &amp;quot;fair use&amp;quot;. Legal protections for game concepts and mechanisms are actually notoriously weak or nonexistent, hence one of the reasons the community tries to be self-policing about copying ideas without permission.&lt;/li&gt;\\n&lt;li&gt;Offering or suggesting to provide files via PM or commenting on such posts asking for files is also clearly not in the spirit of the rule.&lt;/li&gt;\\n&lt;li&gt;We &lt;em&gt;may&lt;/em&gt; allow reproducible materials when there&amp;#39;s clear approval from the designer/publisher. &lt;em&gt;However&lt;/em&gt; verifying this approval can be a tedious task for us, so ask first and assume that we&amp;#39;re not going to allow it.&lt;/li&gt;\\n&lt;/ul&gt;\\n\\n&lt;blockquote&gt;\\n&lt;p&gt;Issues with copyright and other intellectual property violations should be handled through Reddit&amp;#39;s &lt;a href=\"https://www.redditinc.com/policies/user-agreement#text-content8\"&gt;official channels&lt;/a&gt;.&lt;/p&gt;\\n&lt;/blockquote&gt;\\n\\n&lt;ul&gt;\\n&lt;li&gt;Assuming the post follows the reproducibility rule, we&amp;#39;re not going to try to determine if there are any other IP infringements, i.e. in the case of a retheme using characters or content from a book, movie, TV show, or video game. The mod team is simply unequipped to evaluate legitimacy and reddit already has full procedures and mechanisms for handling such problems.\\n\\n&lt;ul&gt;\\n&lt;li&gt;Of couse we still reserve the right to intervene if something seems &amp;quot;obviously&amp;quot; wrong or objectively bad for the sub, though these scenarios are likely to trip other rules.&lt;/li&gt;\\n&lt;/ul&gt;&lt;/li&gt;\\n&lt;/ul&gt;\\n\\n&lt;h1&gt;Rule Changes: Promotional Posts&lt;/h1&gt;\\n\\n&lt;p&gt;Continuing from the discussion in our &lt;a href=\"https://www.reddit.com/r/boardgames/comments/95wznh/rboardgames_town_hall_august_2018/\"&gt;last town hall&lt;/a&gt;, we will be implementing our revisions to promo rules as follows:&lt;/p&gt;\\n\\n&lt;blockquote&gt;\\n&lt;p&gt;&lt;a href=\"/r/boardgames\"&gt;r/boardgames&lt;/a&gt; is a community, not an audience. Our rules are designed to promote community engagement, rather than being purely a conduit to promote a blog, podcast, Kickstarter, YouTube channel, or similar. In order to ensure this is maintained, &lt;a href=\"/r/boardgames\"&gt;/r/boardgames&lt;/a&gt; limits promotional posts or activities for which one could receive a financial benefit to these guidelines:  &lt;/p&gt;\\n\\n&lt;p&gt;&lt;strong&gt;No more than one post per-user, per-week (7 days) from a single source.&lt;/strong&gt;  &lt;/p&gt;\\n\\n&lt;p&gt;&lt;strong&gt;Multiple posts linking the same source require a 10:1 ratio (or greater) of comments between posts.&lt;/strong&gt;  &lt;/p&gt;\\n\\n&lt;p&gt;&lt;strong&gt;Sitewide Reddit karma must be above 100 to share links.&lt;/strong&gt;  &lt;/p&gt;\\n\\n&lt;p&gt;However, sharing content should hopefully not be your primary interaction with &lt;a href=\"/r/boardgames\"&gt;/r/boardgames&lt;/a&gt;, just as dominating a conversation would not be acceptable in other social engagements. Reddit sitewide guidelines suggest only 10 percent of all your activity should be about your own products. We support similar expectations. &lt;a href=\"/r/boardgames\"&gt;r/boardgames&lt;/a&gt; is a community, an opportunity for conversation with others who share a similar passion, not an audience.&lt;/p&gt;\\n&lt;/blockquote&gt;\\n\\n&lt;p&gt;This is the same basic idea we presented then—to loosen the restrictions on users who are posting from a variety of sources, while compensating with a small karma barrier to limit spam—but slightly revised to handle a few perceived weaknesses. Note that, aside from sub-100-karma accounts, all posts complying with the old rules would still be valid under the new ones.&lt;/p&gt;\\n\\n&lt;p&gt;It may take a little bit for us to get all of our ducks in a row, but we&amp;#39;re going to start transitioning to using this guideline immediately.&lt;/p&gt;\\n\\n&lt;h1&gt;Upcoming User Flair Changes and Voting&lt;/h1&gt;\\n\\n&lt;p&gt;First of all, &lt;strong&gt;we&amp;#39;ll be holding a flair suggestion + voting thread next week,&lt;/strong&gt; so get your ideas churning. However things will be a little different this time around:&lt;/p&gt;\\n\\n&lt;ul&gt;\\n&lt;li&gt;&lt;strong&gt;Switching to &amp;quot;redesign-style&amp;quot; flairs:&lt;/strong&gt; Old reddit implements flair icons with CSS hacks, new reddit supports them as &lt;em&gt;emoji.&lt;/em&gt; With this flair update we&amp;#39;ll be transitioning some-to-most flairs to the new system. This &lt;strong&gt;isn&amp;#39;t&lt;/strong&gt; a statement that we&amp;#39;re throwing our weight behind the redesign in general. The emoji are backwards-compatible, whereas the CSS &lt;em&gt;isn&amp;#39;t&lt;/em&gt; forwards-compatible, so using redesign for this gives us the best overall support. The new system also gives us built-in controls (instead of a 3rd-party script a select few can run) and higher-quality images.&lt;/li&gt;\\n&lt;li&gt;&lt;strong&gt;Flair count limits:&lt;/strong&gt; Our tool previously limited us to 350 flair slots, while new reddit is limited to 300 emojis. However, based on what reddit devs have said publicly, we do expect the limit to be relaxed in the near future. For now, I&amp;#39;m going to cap us at 280 game flairs so that we have a few slots for generic icons and experimentation. For now we&amp;#39;ll still use the 350 limit as the threshold for &amp;quot;bumping off&amp;quot; old flairs. At the time of the vote thread, I&amp;#39;ll post a table of all the least-used flairs that are on or near the chopping block. Note that in the past, we&amp;#39;ve had vehement fans of low-usage flairs successfully rally and save them from the purge.&lt;/li&gt;\\n&lt;li&gt;&lt;strong&gt;Resolution upgrade:&lt;/strong&gt; Emoji can be uploaded at resolutions up to 128x128px. Even though our flair displays at 16x16 in &lt;em&gt;CSS pixels&lt;/em&gt;, on many devices with higher &lt;em&gt;pixel density&lt;/em&gt; you will see a higher-resolution image. For example, my computer sees the revised and old Agricola flairs as below.\\n\\n&lt;ul&gt;\\n&lt;li&gt;We do have permission from BGG admins (thanks BGG!) to continue to use their microbadges in our flair system. However their badges are limited to exactly 16x16, so if folks are interested in helping to upgrade, we&amp;#39;ll have to coordinate the creation of new images, as well as permission to use the corresponding source material. I&amp;#39;ll have more details on this later.&lt;/li&gt;\\n&lt;/ul&gt;&lt;/li&gt;\\n&lt;/ul&gt;\\n\\n&lt;p&gt;We also have some visual tweaks available on new reddit, like choosing the background color for default flairs (just this week they added a transparent option, too) or upping the flair size. I personally think having larger-than-text-size looks clunky, but on the other hand, it could enable us to use some images that were previously too small to be recognizable.&lt;/p&gt;\\n\\n&lt;h1&gt;Subreddit History Mystery&lt;/h1&gt;\\n\\n&lt;p&gt;&lt;a href=\"/r/boardgames\"&gt;/r/boardgames&lt;/a&gt; &lt;strong&gt;is coming up on its 10th anniversary in a little over a week!&lt;/strong&gt; In celebration, we&amp;#39;ve been exploring our archives and finding some interesting historical posts, #modsarenerds, but there&amp;#39;s one glaring omission in our discoveries: &lt;em&gt;who actually created the subreddit?&lt;/em&gt; Nowadays reddit records the original creator of each sub, but this wasn&amp;#39;t true in 2008. Reddit duplicators and generic web history tools don&amp;#39;t reach back far enough and only reveal more mysteries. For example, the first post that didn&amp;#39;t later get deleted wasn&amp;#39;t submitted until 11 months in, but by then there was already a team of several mods?&lt;/p&gt;\\n\\n&lt;p&gt;We&amp;#39;re &lt;strong&gt;not&lt;/strong&gt; looking for you to message users for us. We&amp;#39;ve already reached out to a number of folks, and we don&amp;#39;t want anyone swarmed with inquiries. It&amp;#39;s probably annoying enough when &lt;em&gt;one&lt;/em&gt; internet stranger asks what you were doing a decade ago! We are looking for either: people who were around in the old days and have any clues or interesting details about the early sub, &lt;em&gt;or&lt;/em&gt; suggestions of other techniques we can explore.&lt;/p&gt;\\n\\n&lt;p&gt;This isn&amp;#39;t high stakes, just looking for some fun trivia as we approach year 11 and several other milestones. &lt;em&gt;\\\\&lt;/em&gt;cough** 1 million users &lt;em&gt;\\\\&lt;/em&gt;cough** top 100 sub &lt;em&gt;\\\\&lt;/em&gt;cough**&lt;/p&gt;\\n\\n&lt;p&gt;&amp;#x200B;&lt;/p&gt;\\n\\n&lt;p&gt;&amp;#x200B;&lt;/p&gt;\\n\\n&lt;p&gt;Whew; that&amp;#39;s all I&amp;#39;ve got right now. Let us know your thoughts, and again, you&amp;#39;re welcome to discuss any topics here. Game on!&lt;/p&gt;\\n&lt;/div&gt;&lt;!-- SC_ON --&gt;',\n",
       "  'likes': None,\n",
       "  'suggested_sort': None,\n",
       "  'banned_at_utc': None,\n",
       "  'view_count': None,\n",
       "  'archived': False,\n",
       "  'no_follow': False,\n",
       "  'is_crosspostable': False,\n",
       "  'pinned': False,\n",
       "  'over_18': False,\n",
       "  'media_only': False,\n",
       "  'link_flair_template_id': '43ed029e-cd40-11e7-a5ee-0e49dc1624d0',\n",
       "  'can_gild': False,\n",
       "  'spoiler': False,\n",
       "  'locked': False,\n",
       "  'author_flair_text': \":agricola: I'd rather beg!\",\n",
       "  'visited': False,\n",
       "  'num_reports': None,\n",
       "  'distinguished': None,\n",
       "  'subreddit_id': 't5_2qmjp',\n",
       "  'mod_reason_by': None,\n",
       "  'removal_reason': None,\n",
       "  'link_flair_background_color': '#00cc00',\n",
       "  'id': '9dnx0k',\n",
       "  'report_reasons': None,\n",
       "  'author': 'tdhsmith',\n",
       "  'num_crossposts': 0,\n",
       "  'num_comments': 17,\n",
       "  'send_replies': True,\n",
       "  'mod_reports': [],\n",
       "  'author_flair_text_color': 'dark',\n",
       "  'permalink': '/r/boardgames/comments/9dnx0k/rboardgames_town_hall_september_2018/',\n",
       "  'whitelist_status': 'all_ads',\n",
       "  'stickied': True,\n",
       "  'url': 'https://www.reddit.com/r/boardgames/comments/9dnx0k/rboardgames_town_hall_september_2018/',\n",
       "  'subreddit_subscribers': 905602,\n",
       "  'created_utc': 1536273210.0,\n",
       "  'media': None,\n",
       "  'is_video': False}}"
      ]
     },
     "execution_count": 10,
     "metadata": {},
     "output_type": "execute_result"
    }
   ],
   "source": [
    "data['data']['children'][0]"
   ]
  },
  {
   "cell_type": "code",
   "execution_count": 11,
   "metadata": {},
   "outputs": [
    {
     "data": {
      "text/plain": [
       "{'approved_at_utc': None,\n",
       " 'subreddit': 'boardgames',\n",
       " 'selftext': 'Welcome to the monthly [/r/boardgames](https://www.reddit.com/r/boardgames) town hall. This is an opportunity to discuss the subreddit, make suggestions and observations, or ask questions. No topic is off-topic, the mods will be popping in and out, and we’re happy to engage in any and all discussion. The only thing we ask in return is a little  politeness and respect up front. Remember, we’re volunteers.\\n\\nThis month we\\'ve got a handful of announcements to run through:\\n\\n# Rule Changes: Intellectual Property\\n\\nAfter discussing some challenging rulings lately, we\\'ve decided to clarify our stance on intellectual property and reproducibility:\\n\\n&gt;*Out of respect for designers and publishers in our hobby,* we do not allow any posts that enable a full or significant reproduction/recreation of any game\\n\\n* Effectively you can share pics of your retheme in play, but not any of the raw images or files you used to make it\\n* This is not a legality judgment, and will stand even if the images are  public domain or \"fair use\". Legal protections for game concepts and mechanisms are actually notoriously weak or nonexistent, hence one of the reasons the community tries to be self-policing about copying ideas without permission.\\n* Offering or suggesting to provide files via PM or commenting on such posts asking for files is also clearly not in the spirit of the rule.\\n* We *may* allow reproducible materials when there\\'s clear approval from the designer/publisher. *However* verifying this approval can be a tedious task for us, so ask first and assume that we\\'re not going to allow it.\\n\\n&gt;Issues with copyright and other intellectual property violations should be handled through Reddit\\'s [official channels](https://www.redditinc.com/policies/user-agreement#text-content8).\\n\\n* Assuming the post follows the reproducibility rule, we\\'re not going to try to determine if there are any other IP infringements, i.e. in the case of a retheme using characters or content from a book, movie, TV show, or video game. The mod team is simply unequipped to evaluate legitimacy and reddit already has full procedures and mechanisms for handling such problems.\\n   * Of couse we still reserve the right to intervene if something seems \"obviously\" wrong or objectively bad for the sub, though these scenarios are likely to trip other rules.\\n\\n# Rule Changes: Promotional Posts\\n\\nContinuing from the discussion in our [last town hall](https://www.reddit.com/r/boardgames/comments/95wznh/rboardgames_town_hall_august_2018/), we will be implementing our revisions to promo rules as follows:\\n\\n&gt;r/boardgames is a community, not an audience. Our rules are designed to promote community engagement, rather than being purely a conduit to promote a blog, podcast, Kickstarter, YouTube channel, or similar. In order to ensure this is maintained, /r/boardgames limits promotional posts or activities for which one could receive a financial benefit to these guidelines:  \\n&gt;  \\n&gt;**No more than one post per-user, per-week (7 days) from a single source.**  \\n&gt;  \\n&gt;**Multiple posts linking the same source require a 10:1 ratio (or greater) of comments between posts.**  \\n&gt;  \\n&gt;**Sitewide Reddit karma must be above 100 to share links.**  \\n&gt;  \\n&gt;However, sharing content should hopefully not be your primary interaction with /r/boardgames, just as dominating a conversation would not be acceptable in other social engagements. Reddit sitewide guidelines suggest only 10 percent of all your activity should be about your own products. We support similar expectations. r/boardgames is a community, an opportunity for conversation with others who share a similar passion, not an audience.\\n\\nThis is the same basic idea we presented then—to loosen the restrictions on users who are posting from a variety of sources, while compensating with a small karma barrier to limit spam—but slightly revised to handle a few perceived weaknesses. Note that, aside from sub-100-karma accounts, all posts complying with the old rules would still be valid under the new ones.\\n\\nIt may take a little bit for us to get all of our ducks in a row, but we\\'re going to start transitioning to using this guideline immediately.\\n\\n# Upcoming User Flair Changes and Voting\\n\\nFirst of all, **we\\'ll be holding a flair suggestion + voting thread next week,** so get your ideas churning. However things will be a little different this time around:\\n\\n* **Switching to \"redesign-style\" flairs:** Old reddit implements flair icons with CSS hacks, new reddit supports them as *emoji.* With this flair update we\\'ll be transitioning some-to-most flairs to the new system. This **isn\\'t** a statement that we\\'re throwing our weight behind the redesign in general. The emoji are backwards-compatible, whereas the CSS *isn\\'t* forwards-compatible, so using redesign for this gives us the best overall support. The new system also gives us built-in controls (instead of a 3rd-party script a select few can run) and higher-quality images.\\n* **Flair count limits:** Our tool previously limited us to 350 flair slots, while new reddit is limited to 300 emojis. However, based on what reddit devs have said publicly, we do expect the limit to be relaxed in the near future. For now, I\\'m going to cap us at 280 game flairs so that we have a few slots for generic icons and experimentation. For now we\\'ll still use the 350 limit as the threshold for \"bumping off\" old flairs. At the time of the vote thread, I\\'ll post a table of all the least-used flairs that are on or near the chopping block. Note that in the past, we\\'ve had vehement fans of low-usage flairs successfully rally and save them from the purge.\\n* **Resolution upgrade:** Emoji can be uploaded at resolutions up to 128x128px. Even though our flair displays at 16x16 in *CSS pixels*, on many devices with higher *pixel density* you will see a higher-resolution image. For example, my computer sees the revised and old Agricola flairs as below.\\n   * We do have permission from BGG admins (thanks BGG!) to continue to use their microbadges in our flair system. However their badges are limited to exactly 16x16, so if folks are interested in helping to upgrade, we\\'ll have to coordinate the creation of new images, as well as permission to use the corresponding source material. I\\'ll have more details on this later.\\n\\nWe also have some visual tweaks available on new reddit, like choosing the background color for default flairs (just this week they added a transparent option, too) or upping the flair size. I personally think having larger-than-text-size looks clunky, but on the other hand, it could enable us to use some images that were previously too small to be recognizable.\\n\\n# Subreddit History Mystery\\n\\n/r/boardgames **is coming up on its 10th anniversary in a little over a week!** In celebration, we\\'ve been exploring our archives and finding some interesting historical posts, #modsarenerds, but there\\'s one glaring omission in our discoveries: *who actually created the subreddit?* Nowadays reddit records the original creator of each sub, but this wasn\\'t true in 2008. Reddit duplicators and generic web history tools don\\'t reach back far enough and only reveal more mysteries. For example, the first post that didn\\'t later get deleted wasn\\'t submitted until 11 months in, but by then there was already a team of several mods?\\n\\nWe\\'re **not** looking for you to message users for us. We\\'ve already reached out to a number of folks, and we don\\'t want anyone swarmed with inquiries. It\\'s probably annoying enough when *one* internet stranger asks what you were doing a decade ago! We are looking for either: people who were around in the old days and have any clues or interesting details about the early sub, *or* suggestions of other techniques we can explore.\\n\\nThis isn\\'t high stakes, just looking for some fun trivia as we approach year 11 and several other milestones. *\\\\*cough\\\\** 1 million users *\\\\*cough\\\\** top 100 sub *\\\\*cough\\\\**\\n\\n&amp;#x200B;\\n\\n&amp;#x200B;\\n\\nWhew; that\\'s all I\\'ve got right now. Let us know your thoughts, and again, you\\'re welcome to discuss any topics here. Game on!',\n",
       " 'author_fullname': 't2_fgd6j',\n",
       " 'saved': False,\n",
       " 'mod_reason_title': None,\n",
       " 'gilded': 0,\n",
       " 'clicked': False,\n",
       " 'title': '/r/boardgames Town Hall - September 2018',\n",
       " 'link_flair_richtext': [{'e': 'text', 't': 'Town Hall'}],\n",
       " 'subreddit_name_prefixed': 'r/boardgames',\n",
       " 'hidden': False,\n",
       " 'pwls': 6,\n",
       " 'link_flair_css_class': 'ththu',\n",
       " 'downs': 0,\n",
       " 'thumbnail_height': None,\n",
       " 'parent_whitelist_status': 'all_ads',\n",
       " 'hide_score': False,\n",
       " 'name': 't3_9dnx0k',\n",
       " 'quarantine': False,\n",
       " 'link_flair_text_color': 'light',\n",
       " 'author_flair_background_color': '',\n",
       " 'subreddit_type': 'public',\n",
       " 'ups': 32,\n",
       " 'domain': 'self.boardgames',\n",
       " 'media_embed': {},\n",
       " 'thumbnail_width': None,\n",
       " 'author_flair_template_id': 'ef809fb6-18ab-11e7-9e69-0e5a4f06ecbe',\n",
       " 'is_original_content': False,\n",
       " 'user_reports': [],\n",
       " 'secure_media': None,\n",
       " 'is_reddit_media_domain': False,\n",
       " 'is_meta': False,\n",
       " 'category': None,\n",
       " 'secure_media_embed': {},\n",
       " 'link_flair_text': 'Town Hall',\n",
       " 'can_mod_post': False,\n",
       " 'score': 32,\n",
       " 'approved_by': None,\n",
       " 'thumbnail': 'self',\n",
       " 'edited': False,\n",
       " 'author_flair_css_class': 'custom',\n",
       " 'author_flair_richtext': [{'a': ':agricola:',\n",
       "   'e': 'emoji',\n",
       "   'u': 'https://emoji.redditmedia.com/lpd3v2qj42i11_t5_2qmjp/agricola'},\n",
       "  {'e': 'text', 't': \" I'd rather beg!\"}],\n",
       " 'content_categories': None,\n",
       " 'is_self': True,\n",
       " 'mod_note': None,\n",
       " 'created': 1536302010.0,\n",
       " 'link_flair_type': 'richtext',\n",
       " 'wls': 6,\n",
       " 'banned_by': None,\n",
       " 'author_flair_type': 'richtext',\n",
       " 'contest_mode': False,\n",
       " 'selftext_html': '&lt;!-- SC_OFF --&gt;&lt;div class=\"md\"&gt;&lt;p&gt;Welcome to the monthly &lt;a href=\"https://www.reddit.com/r/boardgames\"&gt;/r/boardgames&lt;/a&gt; town hall. This is an opportunity to discuss the subreddit, make suggestions and observations, or ask questions. No topic is off-topic, the mods will be popping in and out, and we’re happy to engage in any and all discussion. The only thing we ask in return is a little  politeness and respect up front. Remember, we’re volunteers.&lt;/p&gt;\\n\\n&lt;p&gt;This month we&amp;#39;ve got a handful of announcements to run through:&lt;/p&gt;\\n\\n&lt;h1&gt;Rule Changes: Intellectual Property&lt;/h1&gt;\\n\\n&lt;p&gt;After discussing some challenging rulings lately, we&amp;#39;ve decided to clarify our stance on intellectual property and reproducibility:&lt;/p&gt;\\n\\n&lt;blockquote&gt;\\n&lt;p&gt;&lt;em&gt;Out of respect for designers and publishers in our hobby,&lt;/em&gt; we do not allow any posts that enable a full or significant reproduction/recreation of any game&lt;/p&gt;\\n&lt;/blockquote&gt;\\n\\n&lt;ul&gt;\\n&lt;li&gt;Effectively you can share pics of your retheme in play, but not any of the raw images or files you used to make it&lt;/li&gt;\\n&lt;li&gt;This is not a legality judgment, and will stand even if the images are  public domain or &amp;quot;fair use&amp;quot;. Legal protections for game concepts and mechanisms are actually notoriously weak or nonexistent, hence one of the reasons the community tries to be self-policing about copying ideas without permission.&lt;/li&gt;\\n&lt;li&gt;Offering or suggesting to provide files via PM or commenting on such posts asking for files is also clearly not in the spirit of the rule.&lt;/li&gt;\\n&lt;li&gt;We &lt;em&gt;may&lt;/em&gt; allow reproducible materials when there&amp;#39;s clear approval from the designer/publisher. &lt;em&gt;However&lt;/em&gt; verifying this approval can be a tedious task for us, so ask first and assume that we&amp;#39;re not going to allow it.&lt;/li&gt;\\n&lt;/ul&gt;\\n\\n&lt;blockquote&gt;\\n&lt;p&gt;Issues with copyright and other intellectual property violations should be handled through Reddit&amp;#39;s &lt;a href=\"https://www.redditinc.com/policies/user-agreement#text-content8\"&gt;official channels&lt;/a&gt;.&lt;/p&gt;\\n&lt;/blockquote&gt;\\n\\n&lt;ul&gt;\\n&lt;li&gt;Assuming the post follows the reproducibility rule, we&amp;#39;re not going to try to determine if there are any other IP infringements, i.e. in the case of a retheme using characters or content from a book, movie, TV show, or video game. The mod team is simply unequipped to evaluate legitimacy and reddit already has full procedures and mechanisms for handling such problems.\\n\\n&lt;ul&gt;\\n&lt;li&gt;Of couse we still reserve the right to intervene if something seems &amp;quot;obviously&amp;quot; wrong or objectively bad for the sub, though these scenarios are likely to trip other rules.&lt;/li&gt;\\n&lt;/ul&gt;&lt;/li&gt;\\n&lt;/ul&gt;\\n\\n&lt;h1&gt;Rule Changes: Promotional Posts&lt;/h1&gt;\\n\\n&lt;p&gt;Continuing from the discussion in our &lt;a href=\"https://www.reddit.com/r/boardgames/comments/95wznh/rboardgames_town_hall_august_2018/\"&gt;last town hall&lt;/a&gt;, we will be implementing our revisions to promo rules as follows:&lt;/p&gt;\\n\\n&lt;blockquote&gt;\\n&lt;p&gt;&lt;a href=\"/r/boardgames\"&gt;r/boardgames&lt;/a&gt; is a community, not an audience. Our rules are designed to promote community engagement, rather than being purely a conduit to promote a blog, podcast, Kickstarter, YouTube channel, or similar. In order to ensure this is maintained, &lt;a href=\"/r/boardgames\"&gt;/r/boardgames&lt;/a&gt; limits promotional posts or activities for which one could receive a financial benefit to these guidelines:  &lt;/p&gt;\\n\\n&lt;p&gt;&lt;strong&gt;No more than one post per-user, per-week (7 days) from a single source.&lt;/strong&gt;  &lt;/p&gt;\\n\\n&lt;p&gt;&lt;strong&gt;Multiple posts linking the same source require a 10:1 ratio (or greater) of comments between posts.&lt;/strong&gt;  &lt;/p&gt;\\n\\n&lt;p&gt;&lt;strong&gt;Sitewide Reddit karma must be above 100 to share links.&lt;/strong&gt;  &lt;/p&gt;\\n\\n&lt;p&gt;However, sharing content should hopefully not be your primary interaction with &lt;a href=\"/r/boardgames\"&gt;/r/boardgames&lt;/a&gt;, just as dominating a conversation would not be acceptable in other social engagements. Reddit sitewide guidelines suggest only 10 percent of all your activity should be about your own products. We support similar expectations. &lt;a href=\"/r/boardgames\"&gt;r/boardgames&lt;/a&gt; is a community, an opportunity for conversation with others who share a similar passion, not an audience.&lt;/p&gt;\\n&lt;/blockquote&gt;\\n\\n&lt;p&gt;This is the same basic idea we presented then—to loosen the restrictions on users who are posting from a variety of sources, while compensating with a small karma barrier to limit spam—but slightly revised to handle a few perceived weaknesses. Note that, aside from sub-100-karma accounts, all posts complying with the old rules would still be valid under the new ones.&lt;/p&gt;\\n\\n&lt;p&gt;It may take a little bit for us to get all of our ducks in a row, but we&amp;#39;re going to start transitioning to using this guideline immediately.&lt;/p&gt;\\n\\n&lt;h1&gt;Upcoming User Flair Changes and Voting&lt;/h1&gt;\\n\\n&lt;p&gt;First of all, &lt;strong&gt;we&amp;#39;ll be holding a flair suggestion + voting thread next week,&lt;/strong&gt; so get your ideas churning. However things will be a little different this time around:&lt;/p&gt;\\n\\n&lt;ul&gt;\\n&lt;li&gt;&lt;strong&gt;Switching to &amp;quot;redesign-style&amp;quot; flairs:&lt;/strong&gt; Old reddit implements flair icons with CSS hacks, new reddit supports them as &lt;em&gt;emoji.&lt;/em&gt; With this flair update we&amp;#39;ll be transitioning some-to-most flairs to the new system. This &lt;strong&gt;isn&amp;#39;t&lt;/strong&gt; a statement that we&amp;#39;re throwing our weight behind the redesign in general. The emoji are backwards-compatible, whereas the CSS &lt;em&gt;isn&amp;#39;t&lt;/em&gt; forwards-compatible, so using redesign for this gives us the best overall support. The new system also gives us built-in controls (instead of a 3rd-party script a select few can run) and higher-quality images.&lt;/li&gt;\\n&lt;li&gt;&lt;strong&gt;Flair count limits:&lt;/strong&gt; Our tool previously limited us to 350 flair slots, while new reddit is limited to 300 emojis. However, based on what reddit devs have said publicly, we do expect the limit to be relaxed in the near future. For now, I&amp;#39;m going to cap us at 280 game flairs so that we have a few slots for generic icons and experimentation. For now we&amp;#39;ll still use the 350 limit as the threshold for &amp;quot;bumping off&amp;quot; old flairs. At the time of the vote thread, I&amp;#39;ll post a table of all the least-used flairs that are on or near the chopping block. Note that in the past, we&amp;#39;ve had vehement fans of low-usage flairs successfully rally and save them from the purge.&lt;/li&gt;\\n&lt;li&gt;&lt;strong&gt;Resolution upgrade:&lt;/strong&gt; Emoji can be uploaded at resolutions up to 128x128px. Even though our flair displays at 16x16 in &lt;em&gt;CSS pixels&lt;/em&gt;, on many devices with higher &lt;em&gt;pixel density&lt;/em&gt; you will see a higher-resolution image. For example, my computer sees the revised and old Agricola flairs as below.\\n\\n&lt;ul&gt;\\n&lt;li&gt;We do have permission from BGG admins (thanks BGG!) to continue to use their microbadges in our flair system. However their badges are limited to exactly 16x16, so if folks are interested in helping to upgrade, we&amp;#39;ll have to coordinate the creation of new images, as well as permission to use the corresponding source material. I&amp;#39;ll have more details on this later.&lt;/li&gt;\\n&lt;/ul&gt;&lt;/li&gt;\\n&lt;/ul&gt;\\n\\n&lt;p&gt;We also have some visual tweaks available on new reddit, like choosing the background color for default flairs (just this week they added a transparent option, too) or upping the flair size. I personally think having larger-than-text-size looks clunky, but on the other hand, it could enable us to use some images that were previously too small to be recognizable.&lt;/p&gt;\\n\\n&lt;h1&gt;Subreddit History Mystery&lt;/h1&gt;\\n\\n&lt;p&gt;&lt;a href=\"/r/boardgames\"&gt;/r/boardgames&lt;/a&gt; &lt;strong&gt;is coming up on its 10th anniversary in a little over a week!&lt;/strong&gt; In celebration, we&amp;#39;ve been exploring our archives and finding some interesting historical posts, #modsarenerds, but there&amp;#39;s one glaring omission in our discoveries: &lt;em&gt;who actually created the subreddit?&lt;/em&gt; Nowadays reddit records the original creator of each sub, but this wasn&amp;#39;t true in 2008. Reddit duplicators and generic web history tools don&amp;#39;t reach back far enough and only reveal more mysteries. For example, the first post that didn&amp;#39;t later get deleted wasn&amp;#39;t submitted until 11 months in, but by then there was already a team of several mods?&lt;/p&gt;\\n\\n&lt;p&gt;We&amp;#39;re &lt;strong&gt;not&lt;/strong&gt; looking for you to message users for us. We&amp;#39;ve already reached out to a number of folks, and we don&amp;#39;t want anyone swarmed with inquiries. It&amp;#39;s probably annoying enough when &lt;em&gt;one&lt;/em&gt; internet stranger asks what you were doing a decade ago! We are looking for either: people who were around in the old days and have any clues or interesting details about the early sub, &lt;em&gt;or&lt;/em&gt; suggestions of other techniques we can explore.&lt;/p&gt;\\n\\n&lt;p&gt;This isn&amp;#39;t high stakes, just looking for some fun trivia as we approach year 11 and several other milestones. &lt;em&gt;\\\\&lt;/em&gt;cough** 1 million users &lt;em&gt;\\\\&lt;/em&gt;cough** top 100 sub &lt;em&gt;\\\\&lt;/em&gt;cough**&lt;/p&gt;\\n\\n&lt;p&gt;&amp;#x200B;&lt;/p&gt;\\n\\n&lt;p&gt;&amp;#x200B;&lt;/p&gt;\\n\\n&lt;p&gt;Whew; that&amp;#39;s all I&amp;#39;ve got right now. Let us know your thoughts, and again, you&amp;#39;re welcome to discuss any topics here. Game on!&lt;/p&gt;\\n&lt;/div&gt;&lt;!-- SC_ON --&gt;',\n",
       " 'likes': None,\n",
       " 'suggested_sort': None,\n",
       " 'banned_at_utc': None,\n",
       " 'view_count': None,\n",
       " 'archived': False,\n",
       " 'no_follow': False,\n",
       " 'is_crosspostable': False,\n",
       " 'pinned': False,\n",
       " 'over_18': False,\n",
       " 'media_only': False,\n",
       " 'link_flair_template_id': '43ed029e-cd40-11e7-a5ee-0e49dc1624d0',\n",
       " 'can_gild': False,\n",
       " 'spoiler': False,\n",
       " 'locked': False,\n",
       " 'author_flair_text': \":agricola: I'd rather beg!\",\n",
       " 'visited': False,\n",
       " 'num_reports': None,\n",
       " 'distinguished': None,\n",
       " 'subreddit_id': 't5_2qmjp',\n",
       " 'mod_reason_by': None,\n",
       " 'removal_reason': None,\n",
       " 'link_flair_background_color': '#00cc00',\n",
       " 'id': '9dnx0k',\n",
       " 'report_reasons': None,\n",
       " 'author': 'tdhsmith',\n",
       " 'num_crossposts': 0,\n",
       " 'num_comments': 17,\n",
       " 'send_replies': True,\n",
       " 'mod_reports': [],\n",
       " 'author_flair_text_color': 'dark',\n",
       " 'permalink': '/r/boardgames/comments/9dnx0k/rboardgames_town_hall_september_2018/',\n",
       " 'whitelist_status': 'all_ads',\n",
       " 'stickied': True,\n",
       " 'url': 'https://www.reddit.com/r/boardgames/comments/9dnx0k/rboardgames_town_hall_september_2018/',\n",
       " 'subreddit_subscribers': 905602,\n",
       " 'created_utc': 1536273210.0,\n",
       " 'media': None,\n",
       " 'is_video': False}"
      ]
     },
     "execution_count": 11,
     "metadata": {},
     "output_type": "execute_result"
    }
   ],
   "source": [
    "data['data']['children'][0]['data']"
   ]
  },
  {
   "cell_type": "code",
   "execution_count": 12,
   "metadata": {},
   "outputs": [
    {
     "data": {
      "text/plain": [
       "'/r/boardgames Town Hall - September 2018'"
      ]
     },
     "execution_count": 12,
     "metadata": {},
     "output_type": "execute_result"
    }
   ],
   "source": [
    "data['data']['children'][0]['data']['title']"
   ]
  },
  {
   "cell_type": "code",
   "execution_count": 13,
   "metadata": {},
   "outputs": [],
   "source": [
    "postss = [p['data'] for p in data['data']['children']]"
   ]
  },
  {
   "cell_type": "code",
   "execution_count": 14,
   "metadata": {},
   "outputs": [],
   "source": [
    "df_post = pd.DataFrame(postss)"
   ]
  },
  {
   "cell_type": "code",
   "execution_count": 40,
   "metadata": {},
   "outputs": [
    {
     "data": {
      "text/plain": [
       "Index(['approved_at_utc', 'approved_by', 'archived', 'author',\n",
       "       'author_flair_background_color', 'author_flair_css_class',\n",
       "       'author_flair_richtext', 'author_flair_template_id',\n",
       "       'author_flair_text', 'author_flair_text_color', 'author_flair_type',\n",
       "       'author_fullname', 'banned_at_utc', 'banned_by', 'can_gild',\n",
       "       'can_mod_post', 'category', 'clicked', 'content_categories',\n",
       "       'contest_mode', 'created', 'created_utc', 'distinguished', 'domain',\n",
       "       'downs', 'edited', 'gilded', 'hidden', 'hide_score', 'id',\n",
       "       'is_crosspostable', 'is_meta', 'is_original_content',\n",
       "       'is_reddit_media_domain', 'is_self', 'is_video', 'likes',\n",
       "       'link_flair_background_color', 'link_flair_css_class',\n",
       "       'link_flair_richtext', 'link_flair_template_id', 'link_flair_text',\n",
       "       'link_flair_text_color', 'link_flair_type', 'locked', 'media',\n",
       "       'media_embed', 'media_only', 'mod_note', 'mod_reason_by',\n",
       "       'mod_reason_title', 'mod_reports', 'name', 'no_follow', 'num_comments',\n",
       "       'num_crossposts', 'num_reports', 'over_18', 'parent_whitelist_status',\n",
       "       'permalink', 'pinned', 'post_hint', 'preview', 'pwls', 'quarantine',\n",
       "       'removal_reason', 'report_reasons', 'saved', 'score', 'secure_media',\n",
       "       'secure_media_embed', 'selftext', 'selftext_html', 'send_replies',\n",
       "       'spoiler', 'stickied', 'subreddit', 'subreddit_id',\n",
       "       'subreddit_name_prefixed', 'subreddit_subscribers', 'subreddit_type',\n",
       "       'suggested_sort', 'thumbnail', 'thumbnail_height', 'thumbnail_width',\n",
       "       'title', 'ups', 'url', 'user_reports', 'view_count', 'visited',\n",
       "       'whitelist_status', 'wls'],\n",
       "      dtype='object')"
      ]
     },
     "execution_count": 40,
     "metadata": {},
     "output_type": "execute_result"
    }
   ],
   "source": [
    "df_post.columns"
   ]
  },
  {
   "cell_type": "code",
   "execution_count": 16,
   "metadata": {},
   "outputs": [
    {
     "data": {
      "text/plain": [
       "'http://www.reddit.com/r/boardgames.json?after=t3_9dk0hz'"
      ]
     },
     "execution_count": 16,
     "metadata": {},
     "output_type": "execute_result"
    }
   ],
   "source": [
    "url + '?after=' + data['data']['after']"
   ]
  },
  {
   "cell_type": "code",
   "execution_count": 17,
   "metadata": {},
   "outputs": [],
   "source": [
    "#Generic function to scrap subreddit by name & how many times you want to repeat (next page of subreddit)\n",
    "def reddit_scraper(subreddit, times):\n",
    "    \n",
    "    url = \"http://www.reddit.com/r/\"+ subreddit +\".json\"\n",
    "\n",
    "    after = None\n",
    "\n",
    "    for i in range(times):\n",
    "        posts = []\n",
    "        if after == None:\n",
    "            current_url = url\n",
    "        else:\n",
    "            current_url = url + '?after=' + after\n",
    "        print(current_url)\n",
    "        res = requests.get(current_url, headers={'User-agent': 'GitUpstreamMaster'})\n",
    "        #print(res.status_code)\n",
    "        if res.status_code != 200:\n",
    "            print('Status error: ', res.status_code)\n",
    "            break\n",
    "        current_dict = res.json()\n",
    "        current_posts = [p['data'] for p in current_dict['data']['children']]\n",
    "        posts.extend(current_posts)\n",
    "        after = current_dict['data']['after']\n",
    "        time.sleep(4)\n",
    "        if i > 0:\n",
    "            current_df = pd.DataFrame(posts)\n",
    "            prev_posts = pd.read_csv(subreddit + '.csv')\n",
    "            all_posts = pd.concat([prev_posts,current_df])\n",
    "            all_posts.to_csv(subreddit + '.csv', index=False)\n",
    "        else:\n",
    "            current_df = pd.DataFrame(posts)\n",
    "            current_df.to_csv(subreddit + '.csv', index=False)\n",
    "    return all_posts.shape"
   ]
  },
  {
   "cell_type": "markdown",
   "metadata": {},
   "source": [
    "#### Getting more results\n",
    "\n",
    "By default, Reddit will give you the top 25 posts:\n",
    "\n",
    "```python\n",
    "print(len(data['data']['children']))\n",
    "```\n",
    "\n",
    "If you want more, you'll need to do two things:\n",
    "1. Get the name of the last post: `data['data']['after']`\n",
    "2. Use that name to hit the following url: `http://www.reddit.com/r/boardgames.json?after=THE_AFTER_FROM_STEP_1`\n",
    "3. Create a loop to repeat steps 1 and 2 until you have a sufficient number of posts. \n",
    "\n",
    "*NOTE*: Reddit will limit the number of requests per second you're allowed to make. When you create your loop, be sure to add the following after each iteration.\n",
    "\n",
    "```python\n",
    "time.sleep(3) # sleeps 3 seconds before continuing```\n",
    "\n",
    "This will throttle your loop and keep you within Reddit's guidelines. You'll need to import the `time` library for this to work!"
   ]
  },
  {
   "cell_type": "markdown",
   "metadata": {
    "focus": false,
    "id": "43e71edd-210e-42b1-9336-70a931f048af"
   },
   "source": [
    "### Save your results as a CSV\n",
    "You may do this regularly while scraping data as well, so that if your scraper stops of your computer crashes, you don't lose all your data."
   ]
  },
  {
   "cell_type": "code",
   "execution_count": 1121,
   "metadata": {
    "focus": false,
    "id": "783fd153-28ac-47ab-bfca-27e7c1de95b4"
   },
   "outputs": [
    {
     "name": "stdout",
     "output_type": "stream",
     "text": [
      "http://www.reddit.com/r/Beto_for_Senate.json\n",
      "http://www.reddit.com/r/Beto_for_Senate.json?after=t3_9e1ecv\n",
      "http://www.reddit.com/r/Beto_for_Senate.json?after=t3_9dcoaz\n"
     ]
    },
    {
     "name": "stderr",
     "output_type": "stream",
     "text": [
      "/Users/macbookpro/anaconda3/lib/python3.6/site-packages/ipykernel_launcher.py:28: FutureWarning: Sorting because non-concatenation axis is not aligned. A future version\n",
      "of pandas will change to not sort by default.\n",
      "\n",
      "To accept the future behavior, pass 'sort=True'.\n",
      "\n",
      "To retain the current behavior and silence the warning, pass sort=False\n",
      "\n"
     ]
    },
    {
     "name": "stdout",
     "output_type": "stream",
     "text": [
      "http://www.reddit.com/r/Beto_for_Senate.json?after=t3_9cng2i\n",
      "http://www.reddit.com/r/Beto_for_Senate.json?after=t3_9c935l\n",
      "http://www.reddit.com/r/Beto_for_Senate.json?after=t3_9bl2ff\n",
      "http://www.reddit.com/r/Beto_for_Senate.json?after=t3_9bbyvs\n",
      "http://www.reddit.com/r/Beto_for_Senate.json?after=t3_9avhmv\n",
      "http://www.reddit.com/r/Beto_for_Senate.json?after=t3_9a0mjl\n",
      "http://www.reddit.com/r/Beto_for_Senate.json?after=t3_99omzm\n",
      "http://www.reddit.com/r/Beto_for_Senate.json?after=t3_98w2o2\n",
      "http://www.reddit.com/r/Beto_for_Senate.json?after=t3_980srw\n",
      "http://www.reddit.com/r/Beto_for_Senate.json?after=t3_97aka1\n",
      "http://www.reddit.com/r/Beto_for_Senate.json?after=t3_9675pk\n",
      "http://www.reddit.com/r/Beto_for_Senate.json?after=t3_95hbcn\n",
      "http://www.reddit.com/r/Beto_for_Senate.json?after=t3_946ksh\n",
      "http://www.reddit.com/r/Beto_for_Senate.json?after=t3_92rq0q\n",
      "http://www.reddit.com/r/Beto_for_Senate.json?after=t3_91df85\n",
      "http://www.reddit.com/r/Beto_for_Senate.json?after=t3_8yptv2\n",
      "http://www.reddit.com/r/Beto_for_Senate.json?after=t3_8v5jbv\n",
      "http://www.reddit.com/r/Beto_for_Senate.json?after=t3_8n04d4\n",
      "http://www.reddit.com/r/Beto_for_Senate.json?after=t3_8lz4yu\n",
      "http://www.reddit.com/r/Beto_for_Senate.json?after=t3_8lau9w\n",
      "http://www.reddit.com/r/Beto_for_Senate.json?after=t3_8kdusd\n",
      "http://www.reddit.com/r/Beto_for_Senate.json?after=t3_8jrz0l\n",
      "http://www.reddit.com/r/Beto_for_Senate.json?after=t3_8j1xxv\n",
      "http://www.reddit.com/r/Beto_for_Senate.json?after=t3_8ifkhp\n",
      "http://www.reddit.com/r/Beto_for_Senate.json?after=t3_8hoff4\n",
      "http://www.reddit.com/r/Beto_for_Senate.json?after=t3_8hcrdy\n",
      "http://www.reddit.com/r/Beto_for_Senate.json?after=t3_8gwlw4\n",
      "http://www.reddit.com/r/Beto_for_Senate.json?after=t3_8g8yml\n",
      "http://www.reddit.com/r/Beto_for_Senate.json?after=t3_8fho9d\n",
      "http://www.reddit.com/r/Beto_for_Senate.json?after=t3_8ezzbf\n",
      "http://www.reddit.com/r/Beto_for_Senate.json?after=t3_8ec7yw\n",
      "http://www.reddit.com/r/Beto_for_Senate.json?after=t3_8e18bv\n",
      "http://www.reddit.com/r/Beto_for_Senate.json?after=t3_8dkpac\n",
      "http://www.reddit.com/r/Beto_for_Senate.json?after=t3_8d1wj3\n",
      "http://www.reddit.com/r/Beto_for_Senate.json?after=t3_8cfddc\n",
      "http://www.reddit.com/r/Beto_for_Senate.json?after=t3_8bnmpe\n"
     ]
    },
    {
     "data": {
      "text/plain": [
       "(977, 97)"
      ]
     },
     "execution_count": 1121,
     "metadata": {},
     "output_type": "execute_result"
    }
   ],
   "source": [
    "# Export to csv the Beto for Senate subreddit\n",
    "reddit_scraper('Beto_for_Senate', 39)\n"
   ]
  },
  {
   "cell_type": "code",
   "execution_count": 622,
   "metadata": {},
   "outputs": [
    {
     "name": "stdout",
     "output_type": "stream",
     "text": [
      "http://www.reddit.com/r/TedCruz.json\n",
      "http://www.reddit.com/r/TedCruz.json?after=t3_7z6z1z\n"
     ]
    },
    {
     "name": "stderr",
     "output_type": "stream",
     "text": [
      "/Users/macbookpro/anaconda3/lib/python3.6/site-packages/ipykernel_launcher.py:28: FutureWarning: Sorting because non-concatenation axis is not aligned. A future version\n",
      "of pandas will change to not sort by default.\n",
      "\n",
      "To accept the future behavior, pass 'sort=True'.\n",
      "\n",
      "To retain the current behavior and silence the warning, pass sort=False\n",
      "\n"
     ]
    },
    {
     "name": "stdout",
     "output_type": "stream",
     "text": [
      "http://www.reddit.com/r/TedCruz.json?after=t3_6e8kdq\n",
      "http://www.reddit.com/r/TedCruz.json?after=t3_5ufml5\n",
      "http://www.reddit.com/r/TedCruz.json?after=t3_5ipb54\n",
      "http://www.reddit.com/r/TedCruz.json?after=t3_54625r\n",
      "http://www.reddit.com/r/TedCruz.json?after=t3_4tzvpt\n",
      "http://www.reddit.com/r/TedCruz.json?after=t3_4o2nej\n",
      "http://www.reddit.com/r/TedCruz.json?after=t3_4iqlvy\n",
      "http://www.reddit.com/r/TedCruz.json?after=t3_4dlcvq\n",
      "http://www.reddit.com/r/TedCruz.json?after=t3_4aldpy\n",
      "http://www.reddit.com/r/TedCruz.json?after=t3_44xynf\n",
      "http://www.reddit.com/r/TedCruz.json?after=t3_415ioi\n",
      "http://www.reddit.com/r/TedCruz.json?after=t3_3wvewu\n",
      "http://www.reddit.com/r/TedCruz.json?after=t3_3w27ts\n"
     ]
    },
    {
     "data": {
      "text/plain": [
       "(375, 95)"
      ]
     },
     "execution_count": 622,
     "metadata": {},
     "output_type": "execute_result"
    }
   ],
   "source": [
    "# Export to csv the Cruz for seante subreddit\n",
    "reddit_scraper('TedCruz', 15)"
   ]
  },
  {
   "cell_type": "markdown",
   "metadata": {
    "focus": false,
    "id": "db045898-1d2d-4af2-8e79-437c4c7546b4"
   },
   "source": [
    "## NLP\n",
    "\n",
    "#### Use `CountVectorizer` or `TfidfVectorizer` from scikit-learn to create features from the thread titles and descriptions (NOTE: Not all threads have a description)\n",
    "- Examine using count or binary features in the model\n",
    "- Re-evaluate your models using these. Does this improve the model performance? \n",
    "- What text features are the most valuable? "
   ]
  },
  {
   "cell_type": "code",
   "execution_count": 623,
   "metadata": {},
   "outputs": [],
   "source": [
    "# Read csv of web scraps\n",
    "beto_data = pd.read_csv('Beto_for_Senate.csv')\n",
    "zodiac_data = pd.read_csv('TedCruz.csv')"
   ]
  },
  {
   "cell_type": "code",
   "execution_count": 624,
   "metadata": {},
   "outputs": [],
   "source": [
    "#Create dataframes\n",
    "beto_df = pd.DataFrame(beto_data)\n",
    "zodiac_df = pd.DataFrame(zodiac_data)"
   ]
  },
  {
   "cell_type": "code",
   "execution_count": 1120,
   "metadata": {},
   "outputs": [
    {
     "data": {
      "text/html": [
       "<div>\n",
       "<style scoped>\n",
       "    .dataframe tbody tr th:only-of-type {\n",
       "        vertical-align: middle;\n",
       "    }\n",
       "\n",
       "    .dataframe tbody tr th {\n",
       "        vertical-align: top;\n",
       "    }\n",
       "\n",
       "    .dataframe thead th {\n",
       "        text-align: right;\n",
       "    }\n",
       "</style>\n",
       "<table border=\"1\" class=\"dataframe\">\n",
       "  <thead>\n",
       "    <tr style=\"text-align: right;\">\n",
       "      <th></th>\n",
       "      <th>saved</th>\n",
       "      <th>score</th>\n",
       "      <th>secure_media</th>\n",
       "      <th>secure_media_embed</th>\n",
       "      <th>selftext</th>\n",
       "      <th>selftext_html</th>\n",
       "      <th>send_replies</th>\n",
       "      <th>spoiler</th>\n",
       "      <th>stickied</th>\n",
       "      <th>subreddit</th>\n",
       "    </tr>\n",
       "  </thead>\n",
       "  <tbody>\n",
       "    <tr>\n",
       "      <th>0</th>\n",
       "      <td>False</td>\n",
       "      <td>79</td>\n",
       "      <td>NaN</td>\n",
       "      <td>{}</td>\n",
       "      <td>**Edit**: Second PSA -- sorry y'all; it appear...</td>\n",
       "      <td>&amp;lt;!-- SC_OFF --&amp;gt;&amp;lt;div class=\"md\"&amp;gt;&amp;lt...</td>\n",
       "      <td>True</td>\n",
       "      <td>False</td>\n",
       "      <td>True</td>\n",
       "      <td>Beto_for_Senate</td>\n",
       "    </tr>\n",
       "    <tr>\n",
       "      <th>1</th>\n",
       "      <td>False</td>\n",
       "      <td>145</td>\n",
       "      <td>NaN</td>\n",
       "      <td>{}</td>\n",
       "      <td>NaN</td>\n",
       "      <td>NaN</td>\n",
       "      <td>True</td>\n",
       "      <td>False</td>\n",
       "      <td>True</td>\n",
       "      <td>Beto_for_Senate</td>\n",
       "    </tr>\n",
       "    <tr>\n",
       "      <th>2</th>\n",
       "      <td>False</td>\n",
       "      <td>104</td>\n",
       "      <td>NaN</td>\n",
       "      <td>{}</td>\n",
       "      <td>NaN</td>\n",
       "      <td>NaN</td>\n",
       "      <td>True</td>\n",
       "      <td>False</td>\n",
       "      <td>False</td>\n",
       "      <td>Beto_for_Senate</td>\n",
       "    </tr>\n",
       "    <tr>\n",
       "      <th>3</th>\n",
       "      <td>False</td>\n",
       "      <td>204</td>\n",
       "      <td>NaN</td>\n",
       "      <td>{}</td>\n",
       "      <td>NaN</td>\n",
       "      <td>NaN</td>\n",
       "      <td>True</td>\n",
       "      <td>False</td>\n",
       "      <td>False</td>\n",
       "      <td>Beto_for_Senate</td>\n",
       "    </tr>\n",
       "    <tr>\n",
       "      <th>4</th>\n",
       "      <td>False</td>\n",
       "      <td>212</td>\n",
       "      <td>NaN</td>\n",
       "      <td>{}</td>\n",
       "      <td>NaN</td>\n",
       "      <td>NaN</td>\n",
       "      <td>True</td>\n",
       "      <td>False</td>\n",
       "      <td>False</td>\n",
       "      <td>Beto_for_Senate</td>\n",
       "    </tr>\n",
       "  </tbody>\n",
       "</table>\n",
       "</div>"
      ],
      "text/plain": [
       "   saved  score secure_media secure_media_embed  \\\n",
       "0  False     79          NaN                 {}   \n",
       "1  False    145          NaN                 {}   \n",
       "2  False    104          NaN                 {}   \n",
       "3  False    204          NaN                 {}   \n",
       "4  False    212          NaN                 {}   \n",
       "\n",
       "                                            selftext  \\\n",
       "0  **Edit**: Second PSA -- sorry y'all; it appear...   \n",
       "1                                                NaN   \n",
       "2                                                NaN   \n",
       "3                                                NaN   \n",
       "4                                                NaN   \n",
       "\n",
       "                                       selftext_html  send_replies  spoiler  \\\n",
       "0  &lt;!-- SC_OFF --&gt;&lt;div class=\"md\"&gt;&lt...          True    False   \n",
       "1                                                NaN          True    False   \n",
       "2                                                NaN          True    False   \n",
       "3                                                NaN          True    False   \n",
       "4                                                NaN          True    False   \n",
       "\n",
       "   stickied        subreddit  \n",
       "0      True  Beto_for_Senate  \n",
       "1      True  Beto_for_Senate  \n",
       "2     False  Beto_for_Senate  \n",
       "3     False  Beto_for_Senate  \n",
       "4     False  Beto_for_Senate  "
      ]
     },
     "execution_count": 1120,
     "metadata": {},
     "output_type": "execute_result"
    }
   ],
   "source": [
    "beto_df.iloc[:,70:80].head()"
   ]
  },
  {
   "cell_type": "code",
   "execution_count": 626,
   "metadata": {},
   "outputs": [],
   "source": [
    "# Extract from import the relevant columns and combine both dataframes into one\n",
    "relevant_columns = ['selftext', 'title', 'subreddit']\n",
    "df = pd.concat([beto_df.loc[:,relevant_columns],zodiac_df.loc[:,relevant_columns]])"
   ]
  },
  {
   "cell_type": "code",
   "execution_count": 627,
   "metadata": {},
   "outputs": [
    {
     "data": {
      "text/plain": [
       "selftext     691\n",
       "title          0\n",
       "subreddit      0\n",
       "dtype: int64"
      ]
     },
     "execution_count": 627,
     "metadata": {},
     "output_type": "execute_result"
    }
   ],
   "source": [
    "# Check for null values\n",
    "df.isnull().sum()"
   ]
  },
  {
   "cell_type": "code",
   "execution_count": 628,
   "metadata": {},
   "outputs": [],
   "source": [
    "#Replace null values with no text\n",
    "df.fillna(\"\", inplace=True)"
   ]
  },
  {
   "cell_type": "code",
   "execution_count": 629,
   "metadata": {},
   "outputs": [],
   "source": [
    "# Make new dataframe series combining text from the reddit post title and inside the post\n",
    "df['title_text'] = df['title'] + \" \" + df['selftext']"
   ]
  },
  {
   "cell_type": "code",
   "execution_count": 631,
   "metadata": {},
   "outputs": [],
   "source": [
    "df.reset_index(drop=True, inplace=True)"
   ]
  },
  {
   "cell_type": "code",
   "execution_count": 634,
   "metadata": {
    "scrolled": false
   },
   "outputs": [
    {
     "name": "stdout",
     "output_type": "stream",
     "text": [
      "The Plan to Win. We only have 55 days until the start of early vote and 70 days until election day. To elect Beto, we are organizing the largest Get Out The Vote (GOTV) campaign in Texas history. \n"
     ]
    }
   ],
   "source": [
    "print(df['title_text'][1])"
   ]
  },
  {
   "cell_type": "code",
   "execution_count": 694,
   "metadata": {},
   "outputs": [],
   "source": [
    "# Create timeseries from reddit time data\n",
    "zodiac_time = [time.strftime('%Y-%m-%d', time.gmtime(zodiac_df['created'][index])) for index in range(0,len(zodiac_df['created']))]\n",
    "beto_time = [time.strftime('%Y-%m-%d', time.gmtime(beto_df['created'][index])) for index in range(0,len(beto_df['created']))]"
   ]
  },
  {
   "cell_type": "code",
   "execution_count": 775,
   "metadata": {},
   "outputs": [],
   "source": [
    "\n",
    "df_beto_time = pd.DataFrame(beto_time)\n",
    "df_zodiac_time = pd.DataFrame(zodiac_time)\n",
    "df_all_time = pd.concat([df_beto_time, df_zodiac_time],axis=1,levels=['beto','cruz'])"
   ]
  },
  {
   "cell_type": "code",
   "execution_count": 790,
   "metadata": {},
   "outputs": [
    {
     "data": {
      "text/plain": [
       "0    211\n",
       "dtype: int64"
      ]
     },
     "execution_count": 790,
     "metadata": {},
     "output_type": "execute_result"
    }
   ],
   "source": [
    "df_zodiac_time.loc[df_zodiac_time[0].str.contains('2016'),:].count()"
   ]
  },
  {
   "cell_type": "code",
   "execution_count": 780,
   "metadata": {},
   "outputs": [],
   "source": [
    "df_all_time.to_csv('df_all_time.csv', index=True)"
   ]
  },
  {
   "cell_type": "markdown",
   "metadata": {},
   "source": [
    "### Pre-processing"
   ]
  },
  {
   "cell_type": "code",
   "execution_count": 954,
   "metadata": {},
   "outputs": [],
   "source": [
    "# Split the data into train and test sets\n",
    "train_corpus, test_corpus, y_train, y_test = train_test_split(df['title_text'],\n",
    "                                                              df['subreddit'], \n",
    "                                                              stratify=df['subreddit'],\n",
    "                                                              random_state=42)"
   ]
  },
  {
   "cell_type": "code",
   "execution_count": 1246,
   "metadata": {},
   "outputs": [],
   "source": [
    "#Instantiate the TFidf Vectorizer and Logistic Regression\n",
    "word_list = list(stop_words.ENGLISH_STOP_WORDS)\n",
    "candidate_list = ['ted','cruz']\n",
    "custom_list = word_list + candidate_list  # Option to exlude politician names\n",
    "tvec = TfidfVectorizer(stop_words=word_list)\n",
    "cv = CountVectorizer(stop_words=word_list)\n"
   ]
  },
  {
   "cell_type": "code",
   "execution_count": 1247,
   "metadata": {},
   "outputs": [],
   "source": [
    "# Initial Logistic Regression Model\n",
    "lr = LogisticRegression(random_state=42)"
   ]
  },
  {
   "cell_type": "code",
   "execution_count": 1248,
   "metadata": {},
   "outputs": [],
   "source": [
    "#Fit the transformer\n",
    "X_cv = cv.fit_transform(train_corpus)\n",
    "X_train = tvec.fit_transform(train_corpus)\n",
    "\n",
    "lr.fit(X_train,y_train)\n",
    "X_test = tvec.transform(test_corpus)\n",
    "\n",
    "predictions = lr.predict(X_test)"
   ]
  },
  {
   "cell_type": "code",
   "execution_count": 980,
   "metadata": {},
   "outputs": [],
   "source": [
    "## Use this function to look at a confusion matrix \n",
    "\n",
    "def make_pretty_conmat(y_test, predictions):\n",
    "    conmat = confusion_matrix(y_test, predictions)\n",
    "    conmat_df = pd.DataFrame(conmat, columns=df['subreddit'].unique().tolist(), index=df['subreddit'].unique().tolist())\n",
    "    conmat_df = conmat_df.add_prefix('Predicted: ')\n",
    "    print(f\"accuracy score: {accuracy_score(y_test, predictions)}\")\n",
    "    return conmat_df"
   ]
  },
  {
   "cell_type": "code",
   "execution_count": 981,
   "metadata": {
    "scrolled": true
   },
   "outputs": [
    {
     "data": {
      "text/plain": [
       "['Beto_for_Senate', 'TedCruz']"
      ]
     },
     "execution_count": 981,
     "metadata": {},
     "output_type": "execute_result"
    }
   ],
   "source": [
    "# Find column names \n",
    "df['subreddit'].unique().tolist()"
   ]
  },
  {
   "cell_type": "code",
   "execution_count": 982,
   "metadata": {},
   "outputs": [
    {
     "name": "stdout",
     "output_type": "stream",
     "text": [
      "accuracy score: 0.9414893617021277\n"
     ]
    },
    {
     "data": {
      "text/html": [
       "<div>\n",
       "<style scoped>\n",
       "    .dataframe tbody tr th:only-of-type {\n",
       "        vertical-align: middle;\n",
       "    }\n",
       "\n",
       "    .dataframe tbody tr th {\n",
       "        vertical-align: top;\n",
       "    }\n",
       "\n",
       "    .dataframe thead th {\n",
       "        text-align: right;\n",
       "    }\n",
       "</style>\n",
       "<table border=\"1\" class=\"dataframe\">\n",
       "  <thead>\n",
       "    <tr style=\"text-align: right;\">\n",
       "      <th></th>\n",
       "      <th>Predicted: Beto_for_Senate</th>\n",
       "      <th>Predicted: TedCruz</th>\n",
       "    </tr>\n",
       "  </thead>\n",
       "  <tbody>\n",
       "    <tr>\n",
       "      <th>Beto_for_Senate</th>\n",
       "      <td>86</td>\n",
       "      <td>8</td>\n",
       "    </tr>\n",
       "    <tr>\n",
       "      <th>TedCruz</th>\n",
       "      <td>3</td>\n",
       "      <td>91</td>\n",
       "    </tr>\n",
       "  </tbody>\n",
       "</table>\n",
       "</div>"
      ],
      "text/plain": [
       "                 Predicted: Beto_for_Senate  Predicted: TedCruz\n",
       "Beto_for_Senate                          86                   8\n",
       "TedCruz                                   3                  91"
      ]
     },
     "execution_count": 982,
     "metadata": {},
     "output_type": "execute_result"
    }
   ],
   "source": [
    "make_pretty_conmat(y_test, predictions)"
   ]
  },
  {
   "cell_type": "markdown",
   "metadata": {},
   "source": [
    "##### GridSearch"
   ]
  },
  {
   "cell_type": "code",
   "execution_count": 983,
   "metadata": {},
   "outputs": [],
   "source": [
    "gs_lr = GridSearchCV(lr,\n",
    "                  param_grid={'penalty':['l1', 'l2'], 'C' : np.logspace(0, 5, 10)})\n",
    "best_model_lr = gs_lr.fit(X_train, y_train)"
   ]
  },
  {
   "cell_type": "code",
   "execution_count": 984,
   "metadata": {},
   "outputs": [
    {
     "name": "stdout",
     "output_type": "stream",
     "text": [
      "Best Penalty: l2\n",
      "Best C: 3.5938136638046276\n"
     ]
    }
   ],
   "source": [
    "print('Best Penalty:', best_model_lr.best_estimator_.get_params()['penalty'])\n",
    "print('Best C:', best_model_lr.best_estimator_.get_params()['C'])"
   ]
  },
  {
   "cell_type": "code",
   "execution_count": 985,
   "metadata": {},
   "outputs": [],
   "source": [
    "lr_best = LogisticRegression(penalty=best_model_lr.best_estimator_.get_params()['penalty'],\n",
    "                             C=best_model_lr.best_estimator_.get_params()['C'],\n",
    "                             random_state=42)"
   ]
  },
  {
   "cell_type": "code",
   "execution_count": 986,
   "metadata": {},
   "outputs": [],
   "source": [
    "lr_best.fit(X_train, y_train);"
   ]
  },
  {
   "cell_type": "code",
   "execution_count": 987,
   "metadata": {},
   "outputs": [],
   "source": [
    "lr_best_predict = lr_best.predict(X_test)"
   ]
  },
  {
   "cell_type": "code",
   "execution_count": 988,
   "metadata": {
    "scrolled": true
   },
   "outputs": [
    {
     "name": "stdout",
     "output_type": "stream",
     "text": [
      "accuracy score: 0.9414893617021277\n"
     ]
    },
    {
     "data": {
      "text/html": [
       "<div>\n",
       "<style scoped>\n",
       "    .dataframe tbody tr th:only-of-type {\n",
       "        vertical-align: middle;\n",
       "    }\n",
       "\n",
       "    .dataframe tbody tr th {\n",
       "        vertical-align: top;\n",
       "    }\n",
       "\n",
       "    .dataframe thead th {\n",
       "        text-align: right;\n",
       "    }\n",
       "</style>\n",
       "<table border=\"1\" class=\"dataframe\">\n",
       "  <thead>\n",
       "    <tr style=\"text-align: right;\">\n",
       "      <th></th>\n",
       "      <th>Predicted: Beto_for_Senate</th>\n",
       "      <th>Predicted: TedCruz</th>\n",
       "    </tr>\n",
       "  </thead>\n",
       "  <tbody>\n",
       "    <tr>\n",
       "      <th>Beto_for_Senate</th>\n",
       "      <td>86</td>\n",
       "      <td>8</td>\n",
       "    </tr>\n",
       "    <tr>\n",
       "      <th>TedCruz</th>\n",
       "      <td>3</td>\n",
       "      <td>91</td>\n",
       "    </tr>\n",
       "  </tbody>\n",
       "</table>\n",
       "</div>"
      ],
      "text/plain": [
       "                 Predicted: Beto_for_Senate  Predicted: TedCruz\n",
       "Beto_for_Senate                          86                   8\n",
       "TedCruz                                   3                  91"
      ]
     },
     "execution_count": 988,
     "metadata": {},
     "output_type": "execute_result"
    }
   ],
   "source": [
    "make_pretty_conmat(y_test, lr_best_predict)"
   ]
  },
  {
   "cell_type": "code",
   "execution_count": 989,
   "metadata": {},
   "outputs": [
    {
     "name": "stdout",
     "output_type": "stream",
     "text": [
      "                 precision    recall  f1-score   support\n",
      "\n",
      "Beto_for_Senate       0.97      0.91      0.94        94\n",
      "        TedCruz       0.92      0.97      0.94        94\n",
      "\n",
      "    avg / total       0.94      0.94      0.94       188\n",
      "\n"
     ]
    }
   ],
   "source": [
    "print(classification_report(y_test, lr_best_predict))"
   ]
  },
  {
   "cell_type": "markdown",
   "metadata": {},
   "source": [
    "### Making Graphs"
   ]
  },
  {
   "cell_type": "code",
   "execution_count": 997,
   "metadata": {
    "scrolled": true
   },
   "outputs": [
    {
     "data": {
      "image/png": "[encoded data removed]",
      "text/plain": [
       "<Figure size 432x288 with 1 Axes>"
      ]
     },
     "metadata": {},
     "output_type": "display_data"
    }
   ],
   "source": [
    "df_words_cv = pd.DataFrame(X_cv.toarray(), columns=cv.get_feature_names())\n",
    "df_words_tvec = pd.DataFrame(X_train.toarray(), columns=tvec.get_feature_names())\n",
    "\n",
    "#Export top words for WordCloud in Tableau\n",
    "df_words_cv.sum().sort_values(ascending=False).head(100).to_csv('top_words.csv', \n",
    "                                                                header=['Word Count'], \n",
    "                                                                index=True)\n",
    "df_words_tvec.sum().sort_values(ascending=False).head(100).to_csv('tvec_top_words.csv', \n",
    "                                                                header=['Word Count'], \n",
    "                                                                index=True)\n",
    "#make Graph\n",
    "df_words_tvec.sum().sort_values(ascending=False).head(20).plot(kind='barh');\n"
   ]
  },
  {
   "cell_type": "code",
   "execution_count": 1196,
   "metadata": {},
   "outputs": [
    {
     "data": {
      "image/png": "[encoded data removed]",
      "text/plain": [
       "<Figure size 432x288 with 1 Axes>"
      ]
     },
     "metadata": {},
     "output_type": "display_data"
    }
   ],
   "source": [
    "### Analyze the coefs \n",
    "\n",
    "coefs = pd.DataFrame(lr.coef_,columns=tvec.get_feature_names()).T\n",
    "coefs['ABS'] = coefs[0].abs()\n",
    "coefs.sort_values(by=0, ascending=False).head(25).to_csv('cruz_coefficients.csv')\n",
    "coefs.sort_values(by=0, ascending=True).head(25).to_csv('beto_coefficients.csv')\n",
    "coefs.sort_values(by='ABS', ascending=True).tail(20)[0].plot(kind='barh', cmap='coolwarm');"
   ]
  },
  {
   "cell_type": "code",
   "execution_count": 1205,
   "metadata": {},
   "outputs": [],
   "source": [
    "# Make a model with no candidates to see how it will affect accuracy\n",
    "tvec_nc = TfidfVectorizer(stop_words=custom_list)\n",
    "# Initial Logistic Regression Model\n",
    "lr_2 = LogisticRegression(random_state=42)\n",
    "\n",
    "#Vectorize to new \n",
    "X2_train = tvec_nc.fit_transform(train_corpus)\n",
    "X2_test = tvec_nc.transform(test_corpus)\n",
    "\n",
    "# Run grid serach\n",
    "gs_lr2 = GridSearchCV(lr_2,\n",
    "                  param_grid={'penalty':['l1', 'l2'], 'C' : np.logspace(0, 5, 10)})\n",
    "best_model_lr2 = gs_lr2.fit(X2_train, y_train)"
   ]
  },
  {
   "cell_type": "code",
   "execution_count": 1206,
   "metadata": {},
   "outputs": [
    {
     "name": "stdout",
     "output_type": "stream",
     "text": [
      "accuracy score: 0.9095744680851063\n"
     ]
    },
    {
     "data": {
      "text/html": [
       "<div>\n",
       "<style scoped>\n",
       "    .dataframe tbody tr th:only-of-type {\n",
       "        vertical-align: middle;\n",
       "    }\n",
       "\n",
       "    .dataframe tbody tr th {\n",
       "        vertical-align: top;\n",
       "    }\n",
       "\n",
       "    .dataframe thead th {\n",
       "        text-align: right;\n",
       "    }\n",
       "</style>\n",
       "<table border=\"1\" class=\"dataframe\">\n",
       "  <thead>\n",
       "    <tr style=\"text-align: right;\">\n",
       "      <th></th>\n",
       "      <th>Predicted: Beto_for_Senate</th>\n",
       "      <th>Predicted: TedCruz</th>\n",
       "    </tr>\n",
       "  </thead>\n",
       "  <tbody>\n",
       "    <tr>\n",
       "      <th>Beto_for_Senate</th>\n",
       "      <td>78</td>\n",
       "      <td>16</td>\n",
       "    </tr>\n",
       "    <tr>\n",
       "      <th>TedCruz</th>\n",
       "      <td>1</td>\n",
       "      <td>93</td>\n",
       "    </tr>\n",
       "  </tbody>\n",
       "</table>\n",
       "</div>"
      ],
      "text/plain": [
       "                 Predicted: Beto_for_Senate  Predicted: TedCruz\n",
       "Beto_for_Senate                          78                  16\n",
       "TedCruz                                   1                  93"
      ]
     },
     "execution_count": 1206,
     "metadata": {},
     "output_type": "execute_result"
    }
   ],
   "source": [
    "lr2_best = LogisticRegression(penalty=best_model_lr2.best_estimator_.get_params()['penalty'],\n",
    "                             C=best_model_lr2.best_estimator_.get_params()['C'],\n",
    "                             random_state=42)\n",
    "lr2_best.fit(X2_train, y_train);\n",
    "lr2_best_predict = lr2_best.predict(X2_test)\n",
    "make_pretty_conmat(y_test, lr2_best_predict)"
   ]
  },
  {
   "cell_type": "code",
   "execution_count": 1208,
   "metadata": {},
   "outputs": [
    {
     "data": {
      "image/png": "[encoded data removed]",
      "text/plain": [
       "<Figure size 432x288 with 1 Axes>"
      ]
     },
     "metadata": {},
     "output_type": "display_data"
    }
   ],
   "source": [
    "### Analyze the coefs \n",
    "\n",
    "coefs_2 = pd.DataFrame(lr2_best.coef_,columns=tvec_nc.get_feature_names()).T\n",
    "coefs_2['ABS'] = coefs[0].abs()\n",
    "coefs_2.sort_values(by='ABS', ascending=True).tail(30)[0].plot(kind='barh', cmap='coolwarm');\n"
   ]
  },
  {
   "cell_type": "markdown",
   "metadata": {
    "focus": false,
    "id": "04563b69-f7b6-466f-9d65-fc62c9ddee6a"
   },
   "source": [
    "## Predicting subreddit using Random Forests + Another Classifier"
   ]
  },
  {
   "cell_type": "code",
   "execution_count": null,
   "metadata": {
    "focus": false,
    "id": "588f9845-6143-4bcc-bfd1-85d45b79303d"
   },
   "outputs": [],
   "source": [
    "## YOUR CODE HERE"
   ]
  },
  {
   "cell_type": "markdown",
   "metadata": {
    "focus": false,
    "id": "c7631f51-07f2-4c79-a093-3e9bc7849a48"
   },
   "source": [
    "#### We want to predict a binary variable - class `0` for one of your subreddits and `1` for the other."
   ]
  },
  {
   "cell_type": "code",
   "execution_count": 65,
   "metadata": {
    "focus": false,
    "id": "c20d2498-151c-44c3-a453-3a333c79a0ac"
   },
   "outputs": [],
   "source": [
    "df['beto'] = [1 if df.loc[i,'subreddit'] == 'Beto_for_Senate' else 0 for i in range(df.shape[0])]"
   ]
  },
  {
   "cell_type": "markdown",
   "metadata": {
    "focus": false,
    "id": "a7afb2c0-d41e-4779-8216-91cd8dd4473f"
   },
   "source": [
    "#### Thought experiment: What is the baseline accuracy for this model?"
   ]
  },
  {
   "cell_type": "markdown",
   "metadata": {
    "focus": false,
    "id": "87a17d3d-b7f4-4747-9f75-f9af1d18a174"
   },
   "source": [
    "The baseline accuracy is the higher percentage of the split between each subreddit. If you were to just guess randomly, then these splits are what you would expect to achieve."
   ]
  },
  {
   "cell_type": "code",
   "execution_count": 999,
   "metadata": {},
   "outputs": [
    {
     "data": {
      "text/plain": [
       "Beto_for_Senate    0.50133\n",
       "TedCruz            0.49867\n",
       "Name: subreddit, dtype: float64"
      ]
     },
     "execution_count": 999,
     "metadata": {},
     "output_type": "execute_result"
    }
   ],
   "source": [
    "df['subreddit'].value_counts(normalize=True)"
   ]
  },
  {
   "cell_type": "markdown",
   "metadata": {
    "focus": false,
    "id": "4fb29de2-5b98-474c-a4ad-5170b72b9aea"
   },
   "source": [
    "#### Create a `RandomForestClassifier` model to predict which subreddit a given post belongs to."
   ]
  },
  {
   "cell_type": "code",
   "execution_count": 1000,
   "metadata": {
    "focus": false,
    "id": "ddbc6159-6854-4ca7-857f-bfecdaf6d9c2"
   },
   "outputs": [],
   "source": [
    "## YOUR CODE HERE\n",
    "rf = RandomForestClassifier(random_state=42)\n"
   ]
  },
  {
   "cell_type": "code",
   "execution_count": 1001,
   "metadata": {},
   "outputs": [],
   "source": [
    "rf.fit(X_train, y_train);\n",
    "predictions_rf = rf.predict(X_test)"
   ]
  },
  {
   "cell_type": "code",
   "execution_count": 1002,
   "metadata": {},
   "outputs": [
    {
     "name": "stdout",
     "output_type": "stream",
     "text": [
      "accuracy score: 0.8936170212765957\n"
     ]
    },
    {
     "data": {
      "text/html": [
       "<div>\n",
       "<style scoped>\n",
       "    .dataframe tbody tr th:only-of-type {\n",
       "        vertical-align: middle;\n",
       "    }\n",
       "\n",
       "    .dataframe tbody tr th {\n",
       "        vertical-align: top;\n",
       "    }\n",
       "\n",
       "    .dataframe thead th {\n",
       "        text-align: right;\n",
       "    }\n",
       "</style>\n",
       "<table border=\"1\" class=\"dataframe\">\n",
       "  <thead>\n",
       "    <tr style=\"text-align: right;\">\n",
       "      <th></th>\n",
       "      <th>Predicted: Beto_for_Senate</th>\n",
       "      <th>Predicted: TedCruz</th>\n",
       "    </tr>\n",
       "  </thead>\n",
       "  <tbody>\n",
       "    <tr>\n",
       "      <th>Beto_for_Senate</th>\n",
       "      <td>81</td>\n",
       "      <td>13</td>\n",
       "    </tr>\n",
       "    <tr>\n",
       "      <th>TedCruz</th>\n",
       "      <td>7</td>\n",
       "      <td>87</td>\n",
       "    </tr>\n",
       "  </tbody>\n",
       "</table>\n",
       "</div>"
      ],
      "text/plain": [
       "                 Predicted: Beto_for_Senate  Predicted: TedCruz\n",
       "Beto_for_Senate                          81                  13\n",
       "TedCruz                                   7                  87"
      ]
     },
     "execution_count": 1002,
     "metadata": {},
     "output_type": "execute_result"
    }
   ],
   "source": [
    "make_pretty_conmat(y_test, predictions_rf)"
   ]
  },
  {
   "cell_type": "markdown",
   "metadata": {},
   "source": [
    "##### GridSearch"
   ]
  },
  {
   "cell_type": "code",
   "execution_count": 1003,
   "metadata": {},
   "outputs": [],
   "source": [
    "gs_rf = GridSearchCV(rf,\n",
    "                  param_grid={'n_estimators':[15,20,25,30,35],\n",
    "                              'criterion': ['gini', 'entropy']})\n",
    "best_model_rf = gs_rf.fit(X_train, y_train)\n",
    "results_rf = gs_rf.cv_results_"
   ]
  },
  {
   "cell_type": "code",
   "execution_count": 1004,
   "metadata": {},
   "outputs": [
    {
     "name": "stdout",
     "output_type": "stream",
     "text": [
      "Best # of Trees: 30\n",
      "Best Criterion: entropy\n"
     ]
    }
   ],
   "source": [
    "print('Best # of Trees:', best_model_rf.best_estimator_.get_params()['n_estimators'])\n",
    "print('Best Criterion:', best_model_rf.best_estimator_.get_params()['criterion'])"
   ]
  },
  {
   "cell_type": "code",
   "execution_count": 1005,
   "metadata": {},
   "outputs": [],
   "source": [
    "rf_best = RandomForestClassifier(n_estimators=25, random_state=42)"
   ]
  },
  {
   "cell_type": "code",
   "execution_count": 1006,
   "metadata": {},
   "outputs": [
    {
     "name": "stdout",
     "output_type": "stream",
     "text": [
      "accuracy score: 0.9308510638297872\n"
     ]
    },
    {
     "data": {
      "text/html": [
       "<div>\n",
       "<style scoped>\n",
       "    .dataframe tbody tr th:only-of-type {\n",
       "        vertical-align: middle;\n",
       "    }\n",
       "\n",
       "    .dataframe tbody tr th {\n",
       "        vertical-align: top;\n",
       "    }\n",
       "\n",
       "    .dataframe thead th {\n",
       "        text-align: right;\n",
       "    }\n",
       "</style>\n",
       "<table border=\"1\" class=\"dataframe\">\n",
       "  <thead>\n",
       "    <tr style=\"text-align: right;\">\n",
       "      <th></th>\n",
       "      <th>Predicted: Beto_for_Senate</th>\n",
       "      <th>Predicted: TedCruz</th>\n",
       "    </tr>\n",
       "  </thead>\n",
       "  <tbody>\n",
       "    <tr>\n",
       "      <th>Beto_for_Senate</th>\n",
       "      <td>85</td>\n",
       "      <td>9</td>\n",
       "    </tr>\n",
       "    <tr>\n",
       "      <th>TedCruz</th>\n",
       "      <td>4</td>\n",
       "      <td>90</td>\n",
       "    </tr>\n",
       "  </tbody>\n",
       "</table>\n",
       "</div>"
      ],
      "text/plain": [
       "                 Predicted: Beto_for_Senate  Predicted: TedCruz\n",
       "Beto_for_Senate                          85                   9\n",
       "TedCruz                                   4                  90"
      ]
     },
     "execution_count": 1006,
     "metadata": {},
     "output_type": "execute_result"
    }
   ],
   "source": [
    "rf_best.fit(X_train, y_train);\n",
    "rf_best_predict = rf_best.predict(X_test)\n",
    "make_pretty_conmat(y_test, rf_best_predict)"
   ]
  },
  {
   "cell_type": "markdown",
   "metadata": {
    "focus": false,
    "id": "9367beff-72ba-4768-a0ba-a50b335de61d"
   },
   "source": [
    "#### Use cross-validation in scikit-learn to evaluate the model above. \n",
    "- Evaluate the accuracy of the model, as well as any other metrics you feel are appropriate. \n",
    "- **Bonus**: Use `GridSearchCV` with `Pipeline` to optimize your `CountVectorizer`/`TfidfVectorizer` and classification model."
   ]
  },
  {
   "cell_type": "code",
   "execution_count": null,
   "metadata": {
    "focus": false,
    "id": "269b9e7c-60b5-4a06-8255-881d7395bc1b"
   },
   "outputs": [],
   "source": [
    "## YOUR CODE HERE"
   ]
  },
  {
   "cell_type": "code",
   "execution_count": 616,
   "metadata": {},
   "outputs": [
    {
     "data": {
      "text/plain": [
       "0.7393862433862433"
      ]
     },
     "execution_count": 616,
     "metadata": {},
     "output_type": "execute_result"
    }
   ],
   "source": [
    "df_cv_scores = pd.DataFrame()\n",
    "cross_val_score(lr_best, X_train, y_train).mean()\n"
   ]
  },
  {
   "cell_type": "code",
   "execution_count": 476,
   "metadata": {},
   "outputs": [],
   "source": [
    "df_scores = pd.DataFrame()\n",
    "df_scores['Run Type'] = 'Default'\n",
    "df_scores['Log'] = lr.score(X_test, y_test)\n",
    "df_scores['Random Forest'] = rf.score(X_test, y_test)\n",
    "df_scores['Gradient Boost'] = gb.score(X_test, y_test)\n",
    "df_scores['Extra Trees'] = et.score(X_test, y_test)"
   ]
  },
  {
   "cell_type": "code",
   "execution_count": 477,
   "metadata": {},
   "outputs": [
    {
     "data": {
      "text/html": [
       "<div>\n",
       "<style scoped>\n",
       "    .dataframe tbody tr th:only-of-type {\n",
       "        vertical-align: middle;\n",
       "    }\n",
       "\n",
       "    .dataframe tbody tr th {\n",
       "        vertical-align: top;\n",
       "    }\n",
       "\n",
       "    .dataframe thead th {\n",
       "        text-align: right;\n",
       "    }\n",
       "</style>\n",
       "<table border=\"1\" class=\"dataframe\">\n",
       "  <thead>\n",
       "    <tr style=\"text-align: right;\">\n",
       "      <th></th>\n",
       "      <th>Run Type</th>\n",
       "      <th>Log</th>\n",
       "      <th>Random Forest</th>\n",
       "      <th>Gradient Boost</th>\n",
       "      <th>Extra Trees</th>\n",
       "    </tr>\n",
       "  </thead>\n",
       "  <tbody>\n",
       "  </tbody>\n",
       "</table>\n",
       "</div>"
      ],
      "text/plain": [
       "Empty DataFrame\n",
       "Columns: [Run Type, Log, Random Forest, Gradient Boost, Extra Trees]\n",
       "Index: []"
      ]
     },
     "execution_count": 477,
     "metadata": {},
     "output_type": "execute_result"
    }
   ],
   "source": [
    "df_scores"
   ]
  },
  {
   "cell_type": "code",
   "execution_count": 139,
   "metadata": {},
   "outputs": [],
   "source": [
    "model = MultinomialNB()"
   ]
  },
  {
   "cell_type": "code",
   "execution_count": null,
   "metadata": {},
   "outputs": [],
   "source": []
  },
  {
   "cell_type": "code",
   "execution_count": null,
   "metadata": {},
   "outputs": [],
   "source": []
  },
  {
   "cell_type": "code",
   "execution_count": null,
   "metadata": {},
   "outputs": [],
   "source": []
  },
  {
   "cell_type": "markdown",
   "metadata": {},
   "source": [
    "#### Repeat the model-building process using a different classifier (e.g. `MultinomialNB`, `LogisticRegression`, etc)"
   ]
  },
  {
   "cell_type": "markdown",
   "metadata": {},
   "source": [
    "### Gradient Boost Models"
   ]
  },
  {
   "cell_type": "code",
   "execution_count": 1007,
   "metadata": {},
   "outputs": [],
   "source": [
    "## YOUR CODE HERE\n",
    "gb = GradientBoostingClassifier(random_state=42)"
   ]
  },
  {
   "cell_type": "code",
   "execution_count": 1008,
   "metadata": {},
   "outputs": [],
   "source": [
    "gb.fit(X_train, y_train);\n",
    "predictions_gb = gb.predict(X_test)"
   ]
  },
  {
   "cell_type": "code",
   "execution_count": 1009,
   "metadata": {
    "scrolled": false
   },
   "outputs": [
    {
     "name": "stdout",
     "output_type": "stream",
     "text": [
      "accuracy score: 0.9468085106382979\n"
     ]
    },
    {
     "data": {
      "text/html": [
       "<div>\n",
       "<style scoped>\n",
       "    .dataframe tbody tr th:only-of-type {\n",
       "        vertical-align: middle;\n",
       "    }\n",
       "\n",
       "    .dataframe tbody tr th {\n",
       "        vertical-align: top;\n",
       "    }\n",
       "\n",
       "    .dataframe thead th {\n",
       "        text-align: right;\n",
       "    }\n",
       "</style>\n",
       "<table border=\"1\" class=\"dataframe\">\n",
       "  <thead>\n",
       "    <tr style=\"text-align: right;\">\n",
       "      <th></th>\n",
       "      <th>Predicted: Beto_for_Senate</th>\n",
       "      <th>Predicted: TedCruz</th>\n",
       "    </tr>\n",
       "  </thead>\n",
       "  <tbody>\n",
       "    <tr>\n",
       "      <th>Beto_for_Senate</th>\n",
       "      <td>88</td>\n",
       "      <td>6</td>\n",
       "    </tr>\n",
       "    <tr>\n",
       "      <th>TedCruz</th>\n",
       "      <td>4</td>\n",
       "      <td>90</td>\n",
       "    </tr>\n",
       "  </tbody>\n",
       "</table>\n",
       "</div>"
      ],
      "text/plain": [
       "                 Predicted: Beto_for_Senate  Predicted: TedCruz\n",
       "Beto_for_Senate                          88                   6\n",
       "TedCruz                                   4                  90"
      ]
     },
     "execution_count": 1009,
     "metadata": {},
     "output_type": "execute_result"
    }
   ],
   "source": [
    "make_pretty_conmat(y_test, predictions_gb)"
   ]
  },
  {
   "cell_type": "code",
   "execution_count": 1010,
   "metadata": {},
   "outputs": [
    {
     "name": "stdout",
     "output_type": "stream",
     "text": [
      "                 precision    recall  f1-score   support\n",
      "\n",
      "Beto_for_Senate       0.96      0.94      0.95        94\n",
      "        TedCruz       0.94      0.96      0.95        94\n",
      "\n",
      "    avg / total       0.95      0.95      0.95       188\n",
      "\n"
     ]
    }
   ],
   "source": [
    "print(classification_report(y_test, predictions_gb))"
   ]
  },
  {
   "cell_type": "markdown",
   "metadata": {},
   "source": [
    "##### Grid Search"
   ]
  },
  {
   "cell_type": "code",
   "execution_count": 1014,
   "metadata": {},
   "outputs": [
    {
     "name": "stdout",
     "output_type": "stream",
     "text": [
      "Best # of Estimators: 100\n",
      "Best Max Depth: 3\n"
     ]
    }
   ],
   "source": [
    "gs_gb = GridSearchCV(gb,\n",
    "                  param_grid={'n_estimators':[50,100,150],\n",
    "                              'max_depth': [3,5,10]})\n",
    "best_model_gb = gs_gb.fit(X_train, y_train)\n",
    "results_gb = gs_gb.cv_results_\n",
    "print('Best # of Estimators:', best_model_gb.best_estimator_.get_params()['n_estimators'])\n",
    "print('Best Max Depth:', best_model_gb.best_estimator_.get_params()['max_depth'])"
   ]
  },
  {
   "cell_type": "code",
   "execution_count": 1015,
   "metadata": {},
   "outputs": [],
   "source": [
    "gb_best = GradientBoostingClassifier(n_estimators=200,max_depth=10, random_state=42)"
   ]
  },
  {
   "cell_type": "code",
   "execution_count": 1016,
   "metadata": {},
   "outputs": [
    {
     "name": "stdout",
     "output_type": "stream",
     "text": [
      "accuracy score: 0.9468085106382979\n"
     ]
    },
    {
     "data": {
      "text/html": [
       "<div>\n",
       "<style scoped>\n",
       "    .dataframe tbody tr th:only-of-type {\n",
       "        vertical-align: middle;\n",
       "    }\n",
       "\n",
       "    .dataframe tbody tr th {\n",
       "        vertical-align: top;\n",
       "    }\n",
       "\n",
       "    .dataframe thead th {\n",
       "        text-align: right;\n",
       "    }\n",
       "</style>\n",
       "<table border=\"1\" class=\"dataframe\">\n",
       "  <thead>\n",
       "    <tr style=\"text-align: right;\">\n",
       "      <th></th>\n",
       "      <th>Predicted: Beto_for_Senate</th>\n",
       "      <th>Predicted: TedCruz</th>\n",
       "    </tr>\n",
       "  </thead>\n",
       "  <tbody>\n",
       "    <tr>\n",
       "      <th>Beto_for_Senate</th>\n",
       "      <td>88</td>\n",
       "      <td>6</td>\n",
       "    </tr>\n",
       "    <tr>\n",
       "      <th>TedCruz</th>\n",
       "      <td>4</td>\n",
       "      <td>90</td>\n",
       "    </tr>\n",
       "  </tbody>\n",
       "</table>\n",
       "</div>"
      ],
      "text/plain": [
       "                 Predicted: Beto_for_Senate  Predicted: TedCruz\n",
       "Beto_for_Senate                          88                   6\n",
       "TedCruz                                   4                  90"
      ]
     },
     "execution_count": 1016,
     "metadata": {},
     "output_type": "execute_result"
    }
   ],
   "source": [
    "gb_best.fit(X_train, y_train);\n",
    "gb_best_predict = gb_best.predict(X_test)\n",
    "make_pretty_conmat(y_test, gb_best_predict)"
   ]
  },
  {
   "cell_type": "markdown",
   "metadata": {},
   "source": [
    "### Extra Trees Models"
   ]
  },
  {
   "cell_type": "code",
   "execution_count": 1017,
   "metadata": {},
   "outputs": [],
   "source": [
    "et = ExtraTreesClassifier(random_state=42)"
   ]
  },
  {
   "cell_type": "code",
   "execution_count": 1018,
   "metadata": {},
   "outputs": [],
   "source": [
    "\n",
    "et.fit(X_train, y_train);\n",
    "predictions_et = et.predict(X_test)"
   ]
  },
  {
   "cell_type": "code",
   "execution_count": 1019,
   "metadata": {
    "scrolled": true
   },
   "outputs": [
    {
     "name": "stdout",
     "output_type": "stream",
     "text": [
      "accuracy score: 0.9042553191489362\n"
     ]
    },
    {
     "data": {
      "text/html": [
       "<div>\n",
       "<style scoped>\n",
       "    .dataframe tbody tr th:only-of-type {\n",
       "        vertical-align: middle;\n",
       "    }\n",
       "\n",
       "    .dataframe tbody tr th {\n",
       "        vertical-align: top;\n",
       "    }\n",
       "\n",
       "    .dataframe thead th {\n",
       "        text-align: right;\n",
       "    }\n",
       "</style>\n",
       "<table border=\"1\" class=\"dataframe\">\n",
       "  <thead>\n",
       "    <tr style=\"text-align: right;\">\n",
       "      <th></th>\n",
       "      <th>Predicted: Beto_for_Senate</th>\n",
       "      <th>Predicted: TedCruz</th>\n",
       "    </tr>\n",
       "  </thead>\n",
       "  <tbody>\n",
       "    <tr>\n",
       "      <th>Beto_for_Senate</th>\n",
       "      <td>84</td>\n",
       "      <td>10</td>\n",
       "    </tr>\n",
       "    <tr>\n",
       "      <th>TedCruz</th>\n",
       "      <td>8</td>\n",
       "      <td>86</td>\n",
       "    </tr>\n",
       "  </tbody>\n",
       "</table>\n",
       "</div>"
      ],
      "text/plain": [
       "                 Predicted: Beto_for_Senate  Predicted: TedCruz\n",
       "Beto_for_Senate                          84                  10\n",
       "TedCruz                                   8                  86"
      ]
     },
     "execution_count": 1019,
     "metadata": {},
     "output_type": "execute_result"
    }
   ],
   "source": [
    "make_pretty_conmat(y_test, predictions_et)"
   ]
  },
  {
   "cell_type": "markdown",
   "metadata": {},
   "source": [
    "##### Grid Search"
   ]
  },
  {
   "cell_type": "code",
   "execution_count": 1020,
   "metadata": {},
   "outputs": [
    {
     "name": "stdout",
     "output_type": "stream",
     "text": [
      "Best # of Estimators: 20\n",
      "Best Criterion: gini\n"
     ]
    }
   ],
   "source": [
    "gs_et = GridSearchCV(et,\n",
    "                  param_grid={'n_estimators':[10,15,20,25],\n",
    "                              'criterion': ['gini', 'entropy']})\n",
    "best_model_et = gs_et.fit(X_train, y_train)\n",
    "results_et = gs_et.cv_results_\n",
    "print('Best # of Estimators:', best_model_et.best_estimator_.get_params()['n_estimators'])\n",
    "print('Best Criterion:', best_model_et.best_estimator_.get_params()['criterion'])"
   ]
  },
  {
   "cell_type": "code",
   "execution_count": 1021,
   "metadata": {},
   "outputs": [],
   "source": [
    "et_best = ExtraTreesClassifier(n_estimators =20, criterion='gini', random_state=42)"
   ]
  },
  {
   "cell_type": "code",
   "execution_count": 1022,
   "metadata": {},
   "outputs": [
    {
     "name": "stdout",
     "output_type": "stream",
     "text": [
      "accuracy score: 0.9095744680851063\n"
     ]
    },
    {
     "data": {
      "text/html": [
       "<div>\n",
       "<style scoped>\n",
       "    .dataframe tbody tr th:only-of-type {\n",
       "        vertical-align: middle;\n",
       "    }\n",
       "\n",
       "    .dataframe tbody tr th {\n",
       "        vertical-align: top;\n",
       "    }\n",
       "\n",
       "    .dataframe thead th {\n",
       "        text-align: right;\n",
       "    }\n",
       "</style>\n",
       "<table border=\"1\" class=\"dataframe\">\n",
       "  <thead>\n",
       "    <tr style=\"text-align: right;\">\n",
       "      <th></th>\n",
       "      <th>Predicted: Beto_for_Senate</th>\n",
       "      <th>Predicted: TedCruz</th>\n",
       "    </tr>\n",
       "  </thead>\n",
       "  <tbody>\n",
       "    <tr>\n",
       "      <th>Beto_for_Senate</th>\n",
       "      <td>82</td>\n",
       "      <td>12</td>\n",
       "    </tr>\n",
       "    <tr>\n",
       "      <th>TedCruz</th>\n",
       "      <td>5</td>\n",
       "      <td>89</td>\n",
       "    </tr>\n",
       "  </tbody>\n",
       "</table>\n",
       "</div>"
      ],
      "text/plain": [
       "                 Predicted: Beto_for_Senate  Predicted: TedCruz\n",
       "Beto_for_Senate                          82                  12\n",
       "TedCruz                                   5                  89"
      ]
     },
     "execution_count": 1022,
     "metadata": {},
     "output_type": "execute_result"
    }
   ],
   "source": [
    "et_best.fit(X_train, y_train);\n",
    "et_best_predict = et_best.predict(X_test)\n",
    "make_pretty_conmat(y_test, et_best_predict)"
   ]
  },
  {
   "cell_type": "markdown",
   "metadata": {},
   "source": [
    "### Pipeline of Models"
   ]
  },
  {
   "cell_type": "code",
   "execution_count": 1034,
   "metadata": {},
   "outputs": [],
   "source": [
    "# Create a pipeline\n",
    "pipe = Pipeline([('tvec', TfidfVectorizer(stop_words=word_list)),\n",
    "                 #('cv', CountVectorizer()),\n",
    "                 ('lr', LogisticRegression(random_state=42)),\n",
    "                 #('gb', GradientBoostingClassifier(random_state=42))\n",
    "                 #('mn', MultinomialNB())\n",
    "                 \n",
    "                ])\n",
    "\n",
    "# Create space of candidate learning algorithms and their hyperparameters\n",
    "search_space = {'tvec__ngram_range': [(1,1),(1,2), (1,3)],\n",
    "                'tvec__max_features' : [None,100,500],\n",
    "                'tvec__min_df' : [1,5,10],\n",
    "                #'cv__ngram_range': [(1,1), (1,2), (1,3)],\n",
    "                #'cv__min_df' : [1,3,5,7],\n",
    "                #'cv__stop_words' : [candidate_list, custom_list]\n",
    "                'lr__penalty':['l1', 'l2'],\n",
    "                'lr__C' : np.logspace(0, 5, 10),\n",
    "                #'gb__n_estimators':[100,125,150],\n",
    "                #'gb__max_depth': [3,5,10]\n",
    "                 }\n",
    "               "
   ]
  },
  {
   "cell_type": "code",
   "execution_count": 1035,
   "metadata": {},
   "outputs": [],
   "source": [
    "# Create grid search \n",
    "gs = GridSearchCV(pipe, param_grid=search_space)"
   ]
  },
  {
   "cell_type": "code",
   "execution_count": 1036,
   "metadata": {},
   "outputs": [
    {
     "data": {
      "text/plain": [
       "0.9450354609929078"
      ]
     },
     "execution_count": 1036,
     "metadata": {},
     "output_type": "execute_result"
    }
   ],
   "source": [
    "# Fit grid search\n",
    "best_model = gs.fit(train_corpus, y_train)\n",
    "best_model.best_score_"
   ]
  },
  {
   "cell_type": "code",
   "execution_count": 1037,
   "metadata": {},
   "outputs": [
    {
     "data": {
      "text/plain": [
       "TfidfVectorizer(analyzer='word', binary=False, decode_error='strict',\n",
       "        dtype=<class 'numpy.int64'>, encoding='utf-8', input='content',\n",
       "        lowercase=True, max_df=1.0, max_features=None, min_df=1,\n",
       "        ngram_range=(1, 1), norm='l2', preprocessor=None, smooth_idf=True,\n",
       "        stop_words=['per', 'beside', 'as', 'more', 'next', 'anyway', 'once', 'few', 'under', 'due', 'first', 'is', 'the', 'yours', 'amount', 'these', 'were', 'fifty', 'myself', 'via', 'anyone', 'others', 'when', 'not', 'still', 'behind', 'an', 'ourselves', 'ltd', 'put', 'so', 'two', 'i', 'becomes', 'had', '...y', 'would', 'much', 'describe', 'whereby', 'anyhow', 'yet', 'herein', 'each', 'yourself', 'become'],\n",
       "        strip_accents=None, sublinear_tf=False,\n",
       "        token_pattern='(?u)\\\\b\\\\w\\\\w+\\\\b', tokenizer=None, use_idf=True,\n",
       "        vocabulary=None)"
      ]
     },
     "execution_count": 1037,
     "metadata": {},
     "output_type": "execute_result"
    }
   ],
   "source": [
    "# View best model\n",
    "best_model.best_estimator_.get_params()['tvec']"
   ]
  },
  {
   "cell_type": "code",
   "execution_count": 1038,
   "metadata": {},
   "outputs": [
    {
     "data": {
      "text/plain": [
       "LogisticRegression(C=3.5938136638046276, class_weight=None, dual=False,\n",
       "          fit_intercept=True, intercept_scaling=1, max_iter=100,\n",
       "          multi_class='ovr', n_jobs=1, penalty='l2', random_state=42,\n",
       "          solver='liblinear', tol=0.0001, verbose=0, warm_start=False)"
      ]
     },
     "execution_count": 1038,
     "metadata": {},
     "output_type": "execute_result"
    }
   ],
   "source": [
    "best_model.best_estimator_.get_params()['lr']"
   ]
  },
  {
   "cell_type": "markdown",
   "metadata": {},
   "source": [
    "## Application"
   ]
  },
  {
   "cell_type": "markdown",
   "metadata": {},
   "source": [
    "We will look to see if we can apply the trained data to other subreddits related to Texas and Politics to see if we can see if the discussion is more related to Beto or to Cruz."
   ]
  },
  {
   "cell_type": "markdown",
   "metadata": {},
   "source": [
    "#### Start with r/Texas"
   ]
  },
  {
   "cell_type": "code",
   "execution_count": 1065,
   "metadata": {},
   "outputs": [
    {
     "name": "stdout",
     "output_type": "stream",
     "text": [
      "http://www.reddit.com/r/texas.json\n",
      "http://www.reddit.com/r/texas.json?after=t3_9e9ye0\n",
      "http://www.reddit.com/r/texas.json?after=t3_9dvxwp\n",
      "http://www.reddit.com/r/texas.json?after=t3_9e15nn\n"
     ]
    },
    {
     "name": "stderr",
     "output_type": "stream",
     "text": [
      "/Users/macbookpro/anaconda3/lib/python3.6/site-packages/ipykernel_launcher.py:28: FutureWarning: Sorting because non-concatenation axis is not aligned. A future version\n",
      "of pandas will change to not sort by default.\n",
      "\n",
      "To accept the future behavior, pass 'sort=True'.\n",
      "\n",
      "To retain the current behavior and silence the warning, pass sort=False\n",
      "\n"
     ]
    },
    {
     "name": "stdout",
     "output_type": "stream",
     "text": [
      "http://www.reddit.com/r/texas.json?after=t3_9dbeee\n",
      "http://www.reddit.com/r/texas.json?after=t3_9d51qm\n",
      "http://www.reddit.com/r/texas.json?after=t3_9d2ldi\n",
      "http://www.reddit.com/r/texas.json?after=t3_9cpv8t\n",
      "http://www.reddit.com/r/texas.json?after=t3_9conac\n",
      "http://www.reddit.com/r/texas.json?after=t3_9c8tjj\n",
      "http://www.reddit.com/r/texas.json?after=t3_9c5r71\n",
      "http://www.reddit.com/r/texas.json?after=t3_9bz2aq\n",
      "http://www.reddit.com/r/texas.json?after=t3_9bkjgc\n",
      "http://www.reddit.com/r/texas.json?after=t3_9blrjm\n",
      "http://www.reddit.com/r/texas.json?after=t3_9bj51g\n",
      "http://www.reddit.com/r/texas.json?after=t3_9b1dpo\n",
      "http://www.reddit.com/r/texas.json?after=t3_9av07n\n",
      "http://www.reddit.com/r/texas.json?after=t3_9a6dau\n",
      "http://www.reddit.com/r/texas.json?after=t3_9a0pz6\n",
      "http://www.reddit.com/r/texas.json?after=t3_99otct\n",
      "http://www.reddit.com/r/texas.json?after=t3_99f6zl\n",
      "http://www.reddit.com/r/texas.json?after=t3_99ej1o\n",
      "http://www.reddit.com/r/texas.json?after=t3_98x7sf\n",
      "http://www.reddit.com/r/texas.json?after=t3_98hll7\n",
      "http://www.reddit.com/r/texas.json?after=t3_985ava\n",
      "http://www.reddit.com/r/texas.json?after=t3_97xe9o\n",
      "http://www.reddit.com/r/texas.json?after=t3_97ig4n\n",
      "http://www.reddit.com/r/texas.json?after=t3_97dtps\n",
      "http://www.reddit.com/r/texas.json?after=t3_96qrm1\n",
      "http://www.reddit.com/r/texas.json?after=t3_96te6r\n",
      "http://www.reddit.com/r/texas.json?after=t3_96cmi0\n",
      "http://www.reddit.com/r/texas.json?after=t3_96ccvl\n",
      "http://www.reddit.com/r/texas.json?after=t3_96355a\n",
      "http://www.reddit.com/r/texas.json?after=t3_95qz8c\n",
      "http://www.reddit.com/r/texas.json?after=t3_95i1nt\n",
      "http://www.reddit.com/r/texas.json?after=t3_95c1w7\n",
      "http://www.reddit.com/r/texas.json?after=t3_953ahw\n",
      "http://www.reddit.com/r/texas.json?after=t3_94tgpi\n",
      "http://www.reddit.com/r/texas.json?after=t3_94fo50\n"
     ]
    },
    {
     "data": {
      "text/plain": [
       "(968, 96)"
      ]
     },
     "execution_count": 1065,
     "metadata": {},
     "output_type": "execute_result"
    }
   ],
   "source": [
    "reddit_scraper('texas', 39)"
   ]
  },
  {
   "cell_type": "code",
   "execution_count": 1066,
   "metadata": {},
   "outputs": [],
   "source": [
    "# Import data\n",
    "texas_data = pd.read_csv('texas.csv')\n",
    "texas_df = pd.DataFrame(texas_data)"
   ]
  },
  {
   "cell_type": "code",
   "execution_count": 1239,
   "metadata": {},
   "outputs": [],
   "source": [
    "# Filter data specific to referencing Beto or Cruz\n",
    "texas_filter_df = texas_df.loc[texas_df['title'].str.contains('beto|cruz|ted cruz|rourke', case=False)]"
   ]
  },
  {
   "cell_type": "code",
   "execution_count": 1240,
   "metadata": {},
   "outputs": [],
   "source": [
    "texaspolitics_df = texas_df.loc[texas_df['link_flair_text'] == 'Politics']"
   ]
  },
  {
   "cell_type": "code",
   "execution_count": 1241,
   "metadata": {},
   "outputs": [
    {
     "data": {
      "text/plain": [
       "(115, 96)"
      ]
     },
     "execution_count": 1241,
     "metadata": {},
     "output_type": "execute_result"
    }
   ],
   "source": [
    "texas_filter_df.shape"
   ]
  },
  {
   "cell_type": "code",
   "execution_count": 1242,
   "metadata": {},
   "outputs": [
    {
     "data": {
      "text/plain": [
       "(43, 96)"
      ]
     },
     "execution_count": 1242,
     "metadata": {},
     "output_type": "execute_result"
    }
   ],
   "source": [
    "texaspolitics_df.shape"
   ]
  },
  {
   "cell_type": "markdown",
   "metadata": {},
   "source": [
    "#### Run Predictions on Texas subreddit filtered posts"
   ]
  },
  {
   "cell_type": "code",
   "execution_count": 1243,
   "metadata": {},
   "outputs": [],
   "source": [
    "lr3 = best_model.best_estimator_.get_params()['lr']"
   ]
  },
  {
   "cell_type": "code",
   "execution_count": 1244,
   "metadata": {},
   "outputs": [],
   "source": [
    "TX_test = texas_filter_df.loc[:,['selftext', 'title', 'subreddit']]\n",
    "TX_test.fillna(\"\", inplace=True)\n",
    "TX_test['title_text'] = TX_test['title'] + \" \" + TX_test['selftext']\n"
   ]
  },
  {
   "cell_type": "code",
   "execution_count": 1249,
   "metadata": {},
   "outputs": [],
   "source": [
    "X_texas = tvec.transform(TX_test['title_text'])\n",
    "tx_predict = lr3.predict(X_texas)"
   ]
  },
  {
   "cell_type": "code",
   "execution_count": 1250,
   "metadata": {},
   "outputs": [],
   "source": [
    "tx_predict_prob = lr3.predict_proba(X_texas)"
   ]
  },
  {
   "cell_type": "code",
   "execution_count": 1251,
   "metadata": {},
   "outputs": [],
   "source": [
    "tx_predictions = pd.DataFrame({'prediction':tx_predict.tolist()})"
   ]
  },
  {
   "cell_type": "code",
   "execution_count": 1252,
   "metadata": {},
   "outputs": [],
   "source": [
    "tx_predictions['P_Beto'] = tx_predict_prob[:,0]\n",
    "tx_predictions['P_Cruz'] = tx_predict_prob[:,1]"
   ]
  },
  {
   "cell_type": "code",
   "execution_count": 1253,
   "metadata": {},
   "outputs": [
    {
     "data": {
      "text/html": [
       "<div>\n",
       "<style scoped>\n",
       "    .dataframe tbody tr th:only-of-type {\n",
       "        vertical-align: middle;\n",
       "    }\n",
       "\n",
       "    .dataframe tbody tr th {\n",
       "        vertical-align: top;\n",
       "    }\n",
       "\n",
       "    .dataframe thead th {\n",
       "        text-align: right;\n",
       "    }\n",
       "</style>\n",
       "<table border=\"1\" class=\"dataframe\">\n",
       "  <thead>\n",
       "    <tr style=\"text-align: right;\">\n",
       "      <th></th>\n",
       "      <th>prediction</th>\n",
       "      <th>P_Beto</th>\n",
       "      <th>P_Cruz</th>\n",
       "    </tr>\n",
       "  </thead>\n",
       "  <tbody>\n",
       "    <tr>\n",
       "      <th>0</th>\n",
       "      <td>Beto_for_Senate</td>\n",
       "      <td>0.680453</td>\n",
       "      <td>0.319547</td>\n",
       "    </tr>\n",
       "    <tr>\n",
       "      <th>1</th>\n",
       "      <td>Beto_for_Senate</td>\n",
       "      <td>0.727805</td>\n",
       "      <td>0.272195</td>\n",
       "    </tr>\n",
       "    <tr>\n",
       "      <th>2</th>\n",
       "      <td>Beto_for_Senate</td>\n",
       "      <td>0.998703</td>\n",
       "      <td>0.001297</td>\n",
       "    </tr>\n",
       "    <tr>\n",
       "      <th>3</th>\n",
       "      <td>Beto_for_Senate</td>\n",
       "      <td>0.966358</td>\n",
       "      <td>0.033642</td>\n",
       "    </tr>\n",
       "    <tr>\n",
       "      <th>4</th>\n",
       "      <td>Beto_for_Senate</td>\n",
       "      <td>0.907903</td>\n",
       "      <td>0.092097</td>\n",
       "    </tr>\n",
       "  </tbody>\n",
       "</table>\n",
       "</div>"
      ],
      "text/plain": [
       "        prediction    P_Beto    P_Cruz\n",
       "0  Beto_for_Senate  0.680453  0.319547\n",
       "1  Beto_for_Senate  0.727805  0.272195\n",
       "2  Beto_for_Senate  0.998703  0.001297\n",
       "3  Beto_for_Senate  0.966358  0.033642\n",
       "4  Beto_for_Senate  0.907903  0.092097"
      ]
     },
     "execution_count": 1253,
     "metadata": {},
     "output_type": "execute_result"
    }
   ],
   "source": [
    "tx_predictions.head()"
   ]
  },
  {
   "cell_type": "code",
   "execution_count": 1254,
   "metadata": {},
   "outputs": [],
   "source": [
    "simple = TX_test.iloc[:,[-1]]\n",
    "simple.reset_index(drop=True, inplace=True)\n",
    "tx_p = pd.concat([tx_predictions,simple], axis=1)"
   ]
  },
  {
   "cell_type": "code",
   "execution_count": 1255,
   "metadata": {},
   "outputs": [
    {
     "data": {
      "text/plain": [
       "Beto_for_Senate    0.686957\n",
       "TedCruz            0.313043\n",
       "Name: prediction, dtype: float64"
      ]
     },
     "execution_count": 1255,
     "metadata": {},
     "output_type": "execute_result"
    }
   ],
   "source": [
    "tx_p['prediction'].value_counts(normalize=True)"
   ]
  },
  {
   "cell_type": "code",
   "execution_count": 1256,
   "metadata": {},
   "outputs": [],
   "source": [
    "tx_p.sort_values('P_Beto', inplace=True)"
   ]
  },
  {
   "cell_type": "code",
   "execution_count": 1257,
   "metadata": {},
   "outputs": [],
   "source": [
    "tx_p.to_csv(\"texas_analysis.csv\")"
   ]
  },
  {
   "cell_type": "code",
   "execution_count": 1259,
   "metadata": {},
   "outputs": [
    {
     "data": {
      "text/html": [
       "<div>\n",
       "<style scoped>\n",
       "    .dataframe tbody tr th:only-of-type {\n",
       "        vertical-align: middle;\n",
       "    }\n",
       "\n",
       "    .dataframe tbody tr th {\n",
       "        vertical-align: top;\n",
       "    }\n",
       "\n",
       "    .dataframe thead th {\n",
       "        text-align: right;\n",
       "    }\n",
       "</style>\n",
       "<table border=\"1\" class=\"dataframe\">\n",
       "  <thead>\n",
       "    <tr style=\"text-align: right;\">\n",
       "      <th></th>\n",
       "      <th>prediction</th>\n",
       "      <th>P_Beto</th>\n",
       "      <th>P_Cruz</th>\n",
       "      <th>title_text</th>\n",
       "    </tr>\n",
       "  </thead>\n",
       "  <tbody>\n",
       "    <tr>\n",
       "      <th>62</th>\n",
       "      <td>TedCruz</td>\n",
       "      <td>0.000415</td>\n",
       "      <td>0.999585</td>\n",
       "      <td>Ted Cruz: Servile Puppy</td>\n",
       "    </tr>\n",
       "    <tr>\n",
       "      <th>52</th>\n",
       "      <td>TedCruz</td>\n",
       "      <td>0.000415</td>\n",
       "      <td>0.999585</td>\n",
       "      <td>Ted Cruz: Brainless, Heartless Spineless</td>\n",
       "    </tr>\n",
       "    <tr>\n",
       "      <th>34</th>\n",
       "      <td>TedCruz</td>\n",
       "      <td>0.007553</td>\n",
       "      <td>0.992447</td>\n",
       "      <td>Ted Cruz: Donald Trump Is a 'Pathological Liar'</td>\n",
       "    </tr>\n",
       "    <tr>\n",
       "      <th>22</th>\n",
       "      <td>TedCruz</td>\n",
       "      <td>0.039838</td>\n",
       "      <td>0.960162</td>\n",
       "      <td>Ted Cruz: Americans Have No Right To Masturbate</td>\n",
       "    </tr>\n",
       "    <tr>\n",
       "      <th>111</th>\n",
       "      <td>TedCruz</td>\n",
       "      <td>0.046096</td>\n",
       "      <td>0.953904</td>\n",
       "      <td>Ted Cruz says it was President Obama who was ‘...</td>\n",
       "    </tr>\n",
       "  </tbody>\n",
       "</table>\n",
       "</div>"
      ],
      "text/plain": [
       "    prediction    P_Beto    P_Cruz  \\\n",
       "62     TedCruz  0.000415  0.999585   \n",
       "52     TedCruz  0.000415  0.999585   \n",
       "34     TedCruz  0.007553  0.992447   \n",
       "22     TedCruz  0.039838  0.960162   \n",
       "111    TedCruz  0.046096  0.953904   \n",
       "\n",
       "                                            title_text  \n",
       "62                            Ted Cruz: Servile Puppy   \n",
       "52           Ted Cruz: Brainless, Heartless Spineless   \n",
       "34    Ted Cruz: Donald Trump Is a 'Pathological Liar'   \n",
       "22    Ted Cruz: Americans Have No Right To Masturbate   \n",
       "111  Ted Cruz says it was President Obama who was ‘...  "
      ]
     },
     "execution_count": 1259,
     "metadata": {},
     "output_type": "execute_result"
    }
   ],
   "source": [
    "tx_p.head()"
   ]
  },
  {
   "cell_type": "markdown",
   "metadata": {},
   "source": [
    "# Executive Summary\n",
    "---\n"
   ]
  },
  {
   "cell_type": "markdown",
   "metadata": {},
   "source": [
    "\n",
    "Campaigns have radically changed. As demonstrated in 2016, viral content and online message can have a powerful influence over the state of the race. Party platforms have less influence now than what is being discussed across the internet. The challenge for modern campaigns is to be able to effectively stay on top and get the message they want to reach voters.\n",
    "\n",
    "With the midterm election fast approaching, it is essential for campaigns to know where they stand in the race. We know that there are many social media platforms out there and much of their content can be traced back to reddit. With the speed at which viral content spreads, it is vital to know if your message is working or if your opponent's attack ads are negatively affecting your campaign. \n",
    "\n",
    "That's why our model can help provide insight into the discussion. We can take a pulse on voters dialog about your campaign and map it to target areas of reddit. This can determine if your message is resonating with the right audience or if your opponent's message is still dominating.\n",
    "\n",
    "With an accuracy of over 94%, our model can predict the strength of one candidates message across Reddit. Our model is flexible enough to give campaigns the tools to explore any number of subreddit and generate their own pulse on the race. And with the ability to expand and adapt key words, we can also tell how effective your message is reaching voters.\n",
    "\n",
    "With so much at stake in this election, it is essential to stay ahead of the curve. If you want to stay one step ahead in the race, our model can provide the insight to know where you campaign stands. \n",
    "\n"
   ]
  }
 ],
 "metadata": {
  "anaconda-cloud": {},
  "kernelspec": {
   "display_name": "Python 3",
   "language": "python",
   "name": "python3"
  },
  "language_info": {
   "codemirror_mode": {
    "name": "ipython",
    "version": 3
   },
   "file_extension": ".py",
   "mimetype": "text/x-python",
   "name": "python",
   "nbconvert_exporter": "python",
   "pygments_lexer": "ipython3",
   "version": "3.6.5"
  },
  "varInspector": {
   "cols": {
    "lenName": 16,
    "lenType": 16,
    "lenVar": 40
   },
   "kernels_config": {
    "python": {
     "delete_cmd_postfix": "",
     "delete_cmd_prefix": "del ",
     "library": "var_list.py",
     "varRefreshCmd": "print(var_dic_list())"
    },
    "r": {
     "delete_cmd_postfix": ") ",
     "delete_cmd_prefix": "rm(",
     "library": "var_list.r",
     "varRefreshCmd": "cat(var_dic_list()) "
    }
   },
   "types_to_exclude": [
    "module",
    "function",
    "builtin_function_or_method",
    "instance",
    "_Feature"
   ],
   "window_display": false
  }
 },
 "nbformat": 4,
 "nbformat_minor": 1
}
